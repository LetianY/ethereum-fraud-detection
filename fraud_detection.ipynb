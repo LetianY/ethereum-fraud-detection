{
 "cells": [
  {
   "cell_type": "markdown",
   "source": [
    "# Ethereum Fraud Detection"
   ],
   "metadata": {
    "collapsed": false
   }
  },
  {
   "cell_type": "markdown",
   "source": [
    "## Import Packages and Read Data"
   ],
   "metadata": {
    "collapsed": false
   }
  },
  {
   "cell_type": "code",
   "execution_count": 1,
   "outputs": [],
   "source": [
    "import pandas as pd"
   ],
   "metadata": {
    "collapsed": false
   }
  },
  {
   "cell_type": "code",
   "execution_count": 2,
   "outputs": [],
   "source": [
    "df_train = pd.read_csv('train_accounts.csv')\n",
    "df_test = pd.read_csv('test_accounts.csv')\n",
    "df_transactions = pd.read_csv('transactions.csv')"
   ],
   "metadata": {
    "collapsed": false
   }
  },
  {
   "cell_type": "markdown",
   "source": [
    "## Exploratory Data Analysis & Preprocessing"
   ],
   "metadata": {
    "collapsed": false
   }
  },
  {
   "cell_type": "code",
   "execution_count": 3,
   "outputs": [
    {
     "data": {
      "text/plain": "     account\n0     a27890\n1     a29649\n2     a28243\n3     a07155\n4     a15576\n...      ...\n6295  a19941\n6296  a09327\n6297  a10254\n6298  a08928\n6299  a03148\n\n[6300 rows x 1 columns]",
      "text/html": "<div>\n<style scoped>\n    .dataframe tbody tr th:only-of-type {\n        vertical-align: middle;\n    }\n\n    .dataframe tbody tr th {\n        vertical-align: top;\n    }\n\n    .dataframe thead th {\n        text-align: right;\n    }\n</style>\n<table border=\"1\" class=\"dataframe\">\n  <thead>\n    <tr style=\"text-align: right;\">\n      <th></th>\n      <th>account</th>\n    </tr>\n  </thead>\n  <tbody>\n    <tr>\n      <th>0</th>\n      <td>a27890</td>\n    </tr>\n    <tr>\n      <th>1</th>\n      <td>a29649</td>\n    </tr>\n    <tr>\n      <th>2</th>\n      <td>a28243</td>\n    </tr>\n    <tr>\n      <th>3</th>\n      <td>a07155</td>\n    </tr>\n    <tr>\n      <th>4</th>\n      <td>a15576</td>\n    </tr>\n    <tr>\n      <th>...</th>\n      <td>...</td>\n    </tr>\n    <tr>\n      <th>6295</th>\n      <td>a19941</td>\n    </tr>\n    <tr>\n      <th>6296</th>\n      <td>a09327</td>\n    </tr>\n    <tr>\n      <th>6297</th>\n      <td>a10254</td>\n    </tr>\n    <tr>\n      <th>6298</th>\n      <td>a08928</td>\n    </tr>\n    <tr>\n      <th>6299</th>\n      <td>a03148</td>\n    </tr>\n  </tbody>\n</table>\n<p>6300 rows × 1 columns</p>\n</div>"
     },
     "execution_count": 3,
     "metadata": {},
     "output_type": "execute_result"
    }
   ],
   "source": [
    "df_test"
   ],
   "metadata": {
    "collapsed": false
   }
  }
 ],
 "metadata": {
  "kernelspec": {
   "display_name": "Python 3",
   "language": "python",
   "name": "python3"
  },
  "language_info": {
   "codemirror_mode": {
    "name": "ipython",
    "version": 2
   },
   "file_extension": ".py",
   "mimetype": "text/x-python",
   "name": "python",
   "nbconvert_exporter": "python",
   "pygments_lexer": "ipython2",
   "version": "2.7.6"
  }
 },
 "nbformat": 4,
 "nbformat_minor": 0
}
