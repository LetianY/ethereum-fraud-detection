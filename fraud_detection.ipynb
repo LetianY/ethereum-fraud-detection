{
 "cells": [
  {
   "cell_type": "markdown",
   "source": [
    "# Ethereum Fraud Detection"
   ],
   "metadata": {
    "collapsed": false
   }
  },
  {
   "cell_type": "markdown",
   "source": [
    "## Import Packages and Read Data"
   ],
   "metadata": {
    "collapsed": false
   }
  },
  {
   "cell_type": "code",
   "execution_count": 1,
   "outputs": [],
   "source": [
    "import pandas as pd"
   ],
   "metadata": {
    "collapsed": false
   }
  },
  {
   "cell_type": "code",
   "execution_count": 2,
   "outputs": [],
   "source": [
    "df_train = pd.read_csv('train_accounts.csv')\n",
    "df_test = pd.read_csv('test_accounts.csv')\n",
    "df_transactions = pd.read_csv('transactions.csv')"
   ],
   "metadata": {
    "collapsed": false
   }
  },
  {
   "cell_type": "code",
   "execution_count": 9,
   "outputs": [
    {
     "name": "stdout",
     "output_type": "stream",
     "text": [
      "Training records: 25198 Testing records 6300\n",
      "Total records: 31498 31498\n"
     ]
    }
   ],
   "source": [
    "train_list = df_train.account.to_list()\n",
    "test_list = df_test.account.to_list()\n",
    "whole_list = train_list + test_list\n",
    "\n",
    "print('Training records:', len(train_list), 'Testing records', len(test_list))\n",
    "print('Total records:', len(whole_list), len(set(whole_list)))"
   ],
   "metadata": {
    "collapsed": false
   }
  },
  {
   "cell_type": "markdown",
   "source": [
    "## Exploratory Data Analysis & Preprocessing"
   ],
   "metadata": {
    "collapsed": false
   }
  },
  {
   "cell_type": "code",
   "execution_count": 5,
   "outputs": [
    {
     "data": {
      "text/plain": "       from_account to_account transaction_time_utc               value  \\\n0            a00996     b31499  2020-05-04 14:54:03                   0   \n1            a07890     b31500  2020-05-04 14:55:06                   0   \n2            a22857     b31501  2020-05-04 14:55:23                   0   \n3            a07890     b31502  2020-05-04 14:55:23  108900000000000000   \n4            a21390     b31501  2020-05-04 14:56:05                   0   \n...             ...        ...                  ...                 ...   \n874980       a22154     b36904  2020-09-09 18:57:49                   0   \n874981       a27216    b156802  2020-09-09 19:15:27                   0   \n874982       a15828    b176682  2020-09-09 18:57:54                   0   \n874983       a27216    b156802  2020-09-09 19:15:27                   0   \n874984         b316        NaN                  NaN                 NaN   \n\n              gas     gas_price  \n0         72585.0  1.150000e+10  \n1         54426.0  1.134972e+10  \n2        200000.0  1.402458e+10  \n3         21000.0  1.134972e+10  \n4        149999.0  3.200000e+10  \n...           ...           ...  \n874980   450000.0  9.373000e+10  \n874981   350000.0  6.670000e+11  \n874982  1256108.0  9.373000e+10  \n874983   350000.0  1.900000e+11  \n874984        NaN           NaN  \n\n[874985 rows x 6 columns]",
      "text/html": "<div>\n<style scoped>\n    .dataframe tbody tr th:only-of-type {\n        vertical-align: middle;\n    }\n\n    .dataframe tbody tr th {\n        vertical-align: top;\n    }\n\n    .dataframe thead th {\n        text-align: right;\n    }\n</style>\n<table border=\"1\" class=\"dataframe\">\n  <thead>\n    <tr style=\"text-align: right;\">\n      <th></th>\n      <th>from_account</th>\n      <th>to_account</th>\n      <th>transaction_time_utc</th>\n      <th>value</th>\n      <th>gas</th>\n      <th>gas_price</th>\n    </tr>\n  </thead>\n  <tbody>\n    <tr>\n      <th>0</th>\n      <td>a00996</td>\n      <td>b31499</td>\n      <td>2020-05-04 14:54:03</td>\n      <td>0</td>\n      <td>72585.0</td>\n      <td>1.150000e+10</td>\n    </tr>\n    <tr>\n      <th>1</th>\n      <td>a07890</td>\n      <td>b31500</td>\n      <td>2020-05-04 14:55:06</td>\n      <td>0</td>\n      <td>54426.0</td>\n      <td>1.134972e+10</td>\n    </tr>\n    <tr>\n      <th>2</th>\n      <td>a22857</td>\n      <td>b31501</td>\n      <td>2020-05-04 14:55:23</td>\n      <td>0</td>\n      <td>200000.0</td>\n      <td>1.402458e+10</td>\n    </tr>\n    <tr>\n      <th>3</th>\n      <td>a07890</td>\n      <td>b31502</td>\n      <td>2020-05-04 14:55:23</td>\n      <td>108900000000000000</td>\n      <td>21000.0</td>\n      <td>1.134972e+10</td>\n    </tr>\n    <tr>\n      <th>4</th>\n      <td>a21390</td>\n      <td>b31501</td>\n      <td>2020-05-04 14:56:05</td>\n      <td>0</td>\n      <td>149999.0</td>\n      <td>3.200000e+10</td>\n    </tr>\n    <tr>\n      <th>...</th>\n      <td>...</td>\n      <td>...</td>\n      <td>...</td>\n      <td>...</td>\n      <td>...</td>\n      <td>...</td>\n    </tr>\n    <tr>\n      <th>874980</th>\n      <td>a22154</td>\n      <td>b36904</td>\n      <td>2020-09-09 18:57:49</td>\n      <td>0</td>\n      <td>450000.0</td>\n      <td>9.373000e+10</td>\n    </tr>\n    <tr>\n      <th>874981</th>\n      <td>a27216</td>\n      <td>b156802</td>\n      <td>2020-09-09 19:15:27</td>\n      <td>0</td>\n      <td>350000.0</td>\n      <td>6.670000e+11</td>\n    </tr>\n    <tr>\n      <th>874982</th>\n      <td>a15828</td>\n      <td>b176682</td>\n      <td>2020-09-09 18:57:54</td>\n      <td>0</td>\n      <td>1256108.0</td>\n      <td>9.373000e+10</td>\n    </tr>\n    <tr>\n      <th>874983</th>\n      <td>a27216</td>\n      <td>b156802</td>\n      <td>2020-09-09 19:15:27</td>\n      <td>0</td>\n      <td>350000.0</td>\n      <td>1.900000e+11</td>\n    </tr>\n    <tr>\n      <th>874984</th>\n      <td>b316</td>\n      <td>NaN</td>\n      <td>NaN</td>\n      <td>NaN</td>\n      <td>NaN</td>\n      <td>NaN</td>\n    </tr>\n  </tbody>\n</table>\n<p>874985 rows × 6 columns</p>\n</div>"
     },
     "execution_count": 5,
     "metadata": {},
     "output_type": "execute_result"
    }
   ],
   "source": [
    "df_transactions"
   ],
   "metadata": {
    "collapsed": false
   }
  },
  {
   "cell_type": "code",
   "execution_count": 16,
   "outputs": [
    {
     "name": "stdout",
     "output_type": "stream",
     "text": [
      "0    22743\n",
      "1     2455\n",
      "Name: flag, dtype: int64\n"
     ]
    }
   ],
   "source": [
    "# Flag Distribution\n",
    "print(df_train.flag.value_counts())"
   ],
   "metadata": {
    "collapsed": false
   }
  },
  {
   "cell_type": "code",
   "execution_count": 19,
   "outputs": [
    {
     "name": "stdout",
     "output_type": "stream",
     "text": [
      "(874985, 6)\n",
      "87799 80227\n"
     ]
    }
   ],
   "source": [
    "print(df_transactions.shape)\n",
    "print(df_transactions.from_account.nunique(), df_transactions.to_account.nunique())"
   ],
   "metadata": {
    "collapsed": false
   }
  },
  {
   "cell_type": "code",
   "execution_count": 18,
   "outputs": [
    {
     "name": "stdout",
     "output_type": "stream",
     "text": [
      "0                      611267\n",
      "5000000000000000        10939\n",
      "1000000000000000000      7580\n",
      "7000000000000000         7036\n",
      "20000000000000000        4896\n",
      "                        ...  \n",
      "50188708000000000           1\n",
      "1360140000000000            1\n",
      "5057325114380703902         1\n",
      "43757930000000000           1\n",
      "37852270545577000           1\n",
      "Name: value, Length: 142607, dtype: int64\n"
     ]
    }
   ],
   "source": [
    "print(df_transactions.value.value_counts())"
   ],
   "metadata": {
    "collapsed": false
   }
  },
  {
   "cell_type": "code",
   "execution_count": null,
   "outputs": [],
   "source": [],
   "metadata": {
    "collapsed": false
   }
  }
 ],
 "metadata": {
  "kernelspec": {
   "display_name": "Python 3",
   "language": "python",
   "name": "python3"
  },
  "language_info": {
   "codemirror_mode": {
    "name": "ipython",
    "version": 2
   },
   "file_extension": ".py",
   "mimetype": "text/x-python",
   "name": "python",
   "nbconvert_exporter": "python",
   "pygments_lexer": "ipython2",
   "version": "2.7.6"
  }
 },
 "nbformat": 4,
 "nbformat_minor": 0
}
