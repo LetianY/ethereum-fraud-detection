{
 "cells": [
  {
   "cell_type": "markdown",
   "source": [
    "# Import Packages and Read Data"
   ],
   "metadata": {
    "collapsed": false
   }
  },
  {
   "cell_type": "code",
   "execution_count": 1,
   "outputs": [],
   "source": [
    "import pandas as pd\n",
    "import numpy as np"
   ],
   "metadata": {
    "collapsed": false
   }
  },
  {
   "cell_type": "code",
   "execution_count": 2,
   "outputs": [],
   "source": [
    "df_train = pd.read_csv('train_accounts.csv')\n",
    "df_test = pd.read_csv('test_accounts.csv')\n",
    "df_transactions = pd.read_csv('transactions.csv')"
   ],
   "metadata": {
    "collapsed": false
   }
  },
  {
   "cell_type": "code",
   "execution_count": 3,
   "outputs": [
    {
     "name": "stdout",
     "output_type": "stream",
     "text": [
      "Training records: 25198 Testing records 6300\n",
      "Total records: 31498 31498\n",
      "Fraud records: 2455\n"
     ]
    }
   ],
   "source": [
    "train_list = df_train.account.to_list()\n",
    "test_list = df_test.account.to_list()\n",
    "whole_list = train_list + test_list\n",
    "\n",
    "print('Training records:', len(train_list), 'Testing records', len(test_list))\n",
    "print('Total records:', len(whole_list), len(set(whole_list)))\n",
    "\n",
    "fraud_list = df_train[df_train.flag == 1].account.to_list()\n",
    "print('Fraud records:', len(fraud_list))"
   ],
   "metadata": {
    "collapsed": false
   }
  },
  {
   "cell_type": "code",
   "execution_count": 4,
   "outputs": [
    {
     "name": "stdout",
     "output_type": "stream",
     "text": [
      "(874985, 6)\n",
      "87799 80227\n"
     ]
    }
   ],
   "source": [
    "print(df_transactions.shape)\n",
    "print(df_transactions.from_account.nunique(), df_transactions.to_account.nunique())"
   ],
   "metadata": {
    "collapsed": false
   }
  },
  {
   "cell_type": "markdown",
   "source": [
    "## Preprocessing"
   ],
   "metadata": {
    "collapsed": false
   }
  },
  {
   "cell_type": "code",
   "execution_count": 5,
   "outputs": [
    {
     "name": "stdout",
     "output_type": "stream",
     "text": [
      "from_account            0\n",
      "to_account              1\n",
      "transaction_time_utc    1\n",
      "value                   1\n",
      "gas                     1\n",
      "gas_price               1\n",
      "dtype: int64\n"
     ]
    }
   ],
   "source": [
    "# There is one record with NULL value but not in the train / test list\n",
    "print(df_transactions.isnull().sum())\n",
    "df_transactions = df_transactions.dropna()"
   ],
   "metadata": {
    "collapsed": false
   }
  },
  {
   "cell_type": "code",
   "execution_count": 6,
   "outputs": [],
   "source": [
    "df_transactions_part_0 = df_transactions.copy()"
   ],
   "metadata": {
    "collapsed": false
   }
  },
  {
   "cell_type": "code",
   "execution_count": 7,
   "outputs": [],
   "source": [
    "df_transactions.transaction_time_utc = pd.to_datetime(df_transactions.transaction_time_utc)\n",
    "df_transactions['transaction_year'] = df_transactions.transaction_time_utc.dt.year\n",
    "df_transactions['transaction_month'] = df_transactions.transaction_time_utc.dt.month\n",
    "df_transactions['transaction_day'] = df_transactions.transaction_time_utc.dt.day\n",
    "df_transactions['transaction_date'] = df_transactions.transaction_time_utc.dt.date"
   ],
   "metadata": {
    "collapsed": false
   }
  },
  {
   "cell_type": "code",
   "execution_count": 8,
   "outputs": [
    {
     "data": {
      "text/plain": "count    8.749840e+05\nmean     2.977605e+07\nstd      1.501229e+08\nmin      0.000000e+00\n25%      2.404282e+06\n50%      8.550000e+06\n75%      2.529370e+07\nmax      4.085285e+10\nName: gas_fee, dtype: float64"
     },
     "execution_count": 8,
     "metadata": {},
     "output_type": "execute_result"
    }
   ],
   "source": [
    "df_transactions['gas_price'] = df_transactions['gas_price'].div(1000000000)\n",
    "df_transactions['gas_fee'] = df_transactions['gas'].mul(df_transactions['gas_price'])\n",
    "df_transactions['gas_fee'].describe()"
   ],
   "metadata": {
    "collapsed": false
   }
  },
  {
   "cell_type": "code",
   "execution_count": 9,
   "outputs": [],
   "source": [
    "df_transactions['is_token'] = np.where(df_transactions['value']=='0', 1, 0)\n",
    "df_transactions['value_digit'] = df_transactions.value.apply(lambda x: len(x))"
   ],
   "metadata": {
    "collapsed": false
   }
  },
  {
   "cell_type": "code",
   "execution_count": 10,
   "outputs": [],
   "source": [
    "df_transactions_part_1 = df_transactions.copy()"
   ],
   "metadata": {
    "collapsed": false
   }
  },
  {
   "cell_type": "code",
   "execution_count": 11,
   "outputs": [
    {
     "data": {
      "text/plain": "                gas      gas_price  transaction_year  transaction_month  \\\ncount  8.749840e+05  874984.000000          874984.0      874984.000000   \nmean   2.984392e+05     100.692407            2020.0           6.976260   \nstd    5.548686e+05     292.680415               0.0           1.198192   \nmin    2.100000e+04       0.000000            2020.0           5.000000   \n25%    5.490100e+04      33.000000            2020.0           6.000000   \n50%    1.300000e+05      59.000000            2020.0           7.000000   \n75%    4.000000e+05     100.800000            2020.0           8.000000   \nmax    1.190397e+07  171397.020211            2020.0           9.000000   \n\n       transaction_day       gas_fee       is_token    value_digit  \ncount    874984.000000  8.749840e+05  874984.000000  874984.000000  \nmean         15.782499  2.977605e+07       0.698604       6.031943  \nstd           9.012622  1.501229e+08       0.458865       7.691872  \nmin           1.000000  0.000000e+00       0.000000       1.000000  \n25%           8.000000  2.404282e+06       0.000000       1.000000  \n50%          16.000000  8.550000e+06       1.000000       1.000000  \n75%          24.000000  2.529370e+07       1.000000      16.000000  \nmax          31.000000  4.085285e+10       1.000000      23.000000  ",
      "text/html": "<div>\n<style scoped>\n    .dataframe tbody tr th:only-of-type {\n        vertical-align: middle;\n    }\n\n    .dataframe tbody tr th {\n        vertical-align: top;\n    }\n\n    .dataframe thead th {\n        text-align: right;\n    }\n</style>\n<table border=\"1\" class=\"dataframe\">\n  <thead>\n    <tr style=\"text-align: right;\">\n      <th></th>\n      <th>gas</th>\n      <th>gas_price</th>\n      <th>transaction_year</th>\n      <th>transaction_month</th>\n      <th>transaction_day</th>\n      <th>gas_fee</th>\n      <th>is_token</th>\n      <th>value_digit</th>\n    </tr>\n  </thead>\n  <tbody>\n    <tr>\n      <th>count</th>\n      <td>8.749840e+05</td>\n      <td>874984.000000</td>\n      <td>874984.0</td>\n      <td>874984.000000</td>\n      <td>874984.000000</td>\n      <td>8.749840e+05</td>\n      <td>874984.000000</td>\n      <td>874984.000000</td>\n    </tr>\n    <tr>\n      <th>mean</th>\n      <td>2.984392e+05</td>\n      <td>100.692407</td>\n      <td>2020.0</td>\n      <td>6.976260</td>\n      <td>15.782499</td>\n      <td>2.977605e+07</td>\n      <td>0.698604</td>\n      <td>6.031943</td>\n    </tr>\n    <tr>\n      <th>std</th>\n      <td>5.548686e+05</td>\n      <td>292.680415</td>\n      <td>0.0</td>\n      <td>1.198192</td>\n      <td>9.012622</td>\n      <td>1.501229e+08</td>\n      <td>0.458865</td>\n      <td>7.691872</td>\n    </tr>\n    <tr>\n      <th>min</th>\n      <td>2.100000e+04</td>\n      <td>0.000000</td>\n      <td>2020.0</td>\n      <td>5.000000</td>\n      <td>1.000000</td>\n      <td>0.000000e+00</td>\n      <td>0.000000</td>\n      <td>1.000000</td>\n    </tr>\n    <tr>\n      <th>25%</th>\n      <td>5.490100e+04</td>\n      <td>33.000000</td>\n      <td>2020.0</td>\n      <td>6.000000</td>\n      <td>8.000000</td>\n      <td>2.404282e+06</td>\n      <td>0.000000</td>\n      <td>1.000000</td>\n    </tr>\n    <tr>\n      <th>50%</th>\n      <td>1.300000e+05</td>\n      <td>59.000000</td>\n      <td>2020.0</td>\n      <td>7.000000</td>\n      <td>16.000000</td>\n      <td>8.550000e+06</td>\n      <td>1.000000</td>\n      <td>1.000000</td>\n    </tr>\n    <tr>\n      <th>75%</th>\n      <td>4.000000e+05</td>\n      <td>100.800000</td>\n      <td>2020.0</td>\n      <td>8.000000</td>\n      <td>24.000000</td>\n      <td>2.529370e+07</td>\n      <td>1.000000</td>\n      <td>16.000000</td>\n    </tr>\n    <tr>\n      <th>max</th>\n      <td>1.190397e+07</td>\n      <td>171397.020211</td>\n      <td>2020.0</td>\n      <td>9.000000</td>\n      <td>31.000000</td>\n      <td>4.085285e+10</td>\n      <td>1.000000</td>\n      <td>23.000000</td>\n    </tr>\n  </tbody>\n</table>\n</div>"
     },
     "execution_count": 11,
     "metadata": {},
     "output_type": "execute_result"
    }
   ],
   "source": [
    "df_transactions.describe()"
   ],
   "metadata": {
    "collapsed": false
   }
  },
  {
   "cell_type": "markdown",
   "source": [
    "## Dataset Construction"
   ],
   "metadata": {
    "collapsed": false
   }
  },
  {
   "cell_type": "code",
   "execution_count": 12,
   "outputs": [
    {
     "data": {
      "text/plain": "Index(['from_account', 'to_account', 'transaction_time_utc', 'value', 'gas',\n       'gas_price', 'transaction_year', 'transaction_month', 'transaction_day',\n       'transaction_date', 'gas_fee', 'is_token', 'value_digit'],\n      dtype='object')"
     },
     "execution_count": 12,
     "metadata": {},
     "output_type": "execute_result"
    }
   ],
   "source": [
    "df_transactions.columns"
   ],
   "metadata": {
    "collapsed": false
   }
  },
  {
   "cell_type": "code",
   "execution_count": 13,
   "outputs": [
    {
     "ename": "SyntaxError",
     "evalue": "invalid syntax. Perhaps you forgot a comma? (871106317.py, line 4)",
     "output_type": "error",
     "traceback": [
      "\u001B[1;36m  File \u001B[1;32m\"C:\\Users\\Letian YU\\AppData\\Local\\Temp\\ipykernel_4404\\871106317.py\"\u001B[1;36m, line \u001B[1;32m4\u001B[0m\n\u001B[1;33m    df_all = pd.merge(df_all, df_transactions[])\u001B[0m\n\u001B[1;37m                              ^\u001B[0m\n\u001B[1;31mSyntaxError\u001B[0m\u001B[1;31m:\u001B[0m invalid syntax. Perhaps you forgot a comma?\n"
     ]
    }
   ],
   "source": [
    "df_all = pd.DataFrame(data={'account': whole_list})\n",
    "usable_var_1 = ['transaction_date', 'gas', 'gas_price', 'gas_fee', 'is_token', 'value_digit']\n",
    "\n",
    "df_all = pd.merge(df_all, df_transactions[])\n"
   ],
   "metadata": {
    "collapsed": false
   }
  },
  {
   "cell_type": "markdown",
   "source": [
    "## Feature Engineering\n",
    "\n",
    "1. from account features\n",
    "2. to account features\n",
    "\n",
    "- maximum transaction number within the same date\n",
    "- total number of transaction\n",
    "- whether from/to account identified as fraud\n",
    "- total number of token/non-token transaction\n",
    "- max, min, mean, std of gas price / gas / gas_fee\n",
    "- max, min, mean, std of transaction value_digit\n",
    "\n",
    "explore distribution: see if transformation needed\n",
    "\n",
    "implement models: regression, autoencoder, boosting, RNN"
   ],
   "metadata": {
    "collapsed": false
   }
  },
  {
   "cell_type": "code",
   "execution_count": null,
   "outputs": [],
   "source": [],
   "metadata": {
    "collapsed": false
   }
  },
  {
   "cell_type": "code",
   "execution_count": null,
   "outputs": [],
   "source": [],
   "metadata": {
    "collapsed": false
   }
  }
 ],
 "metadata": {
  "kernelspec": {
   "display_name": "Python 3",
   "language": "python",
   "name": "python3"
  },
  "language_info": {
   "codemirror_mode": {
    "name": "ipython",
    "version": 2
   },
   "file_extension": ".py",
   "mimetype": "text/x-python",
   "name": "python",
   "nbconvert_exporter": "python",
   "pygments_lexer": "ipython2",
   "version": "2.7.6"
  }
 },
 "nbformat": 4,
 "nbformat_minor": 0
}
