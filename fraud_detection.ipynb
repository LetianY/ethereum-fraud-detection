{
 "cells": [
  {
   "cell_type": "markdown",
   "source": [
    "# Import Packages and Read Data"
   ],
   "metadata": {
    "collapsed": false
   }
  },
  {
   "cell_type": "code",
   "execution_count": 31,
   "outputs": [],
   "source": [
    "import pandas as pd\n",
    "import numpy as np\n",
    "from pandas_profiling import ProfileReport"
   ],
   "metadata": {
    "collapsed": false
   }
  },
  {
   "cell_type": "code",
   "execution_count": 32,
   "outputs": [],
   "source": [
    "df_train = pd.read_csv('data/train_accounts.csv')\n",
    "df_test = pd.read_csv('data/test_accounts.csv')\n",
    "df_transactions = pd.read_csv('data/transactions.csv')"
   ],
   "metadata": {
    "collapsed": false
   }
  },
  {
   "cell_type": "code",
   "execution_count": 33,
   "outputs": [
    {
     "name": "stdout",
     "output_type": "stream",
     "text": [
      "Training records: 25198 Testing records 6300\n",
      "Total records: 31498 31498\n",
      "Fraud records: 2455\n"
     ]
    }
   ],
   "source": [
    "train_list = df_train.account.to_list()\n",
    "test_list = df_test.account.to_list()\n",
    "whole_list = train_list + test_list\n",
    "\n",
    "print('Training records:', len(train_list), 'Testing records', len(test_list))\n",
    "print('Total records:', len(whole_list), len(set(whole_list)))\n",
    "\n",
    "fraud_list = df_train[df_train.flag == 1].account.to_list()\n",
    "print('Fraud records:', len(fraud_list))"
   ],
   "metadata": {
    "collapsed": false
   }
  },
  {
   "cell_type": "code",
   "execution_count": 34,
   "outputs": [
    {
     "name": "stdout",
     "output_type": "stream",
     "text": [
      "(5826604, 6)\n",
      "604847 419535\n"
     ]
    }
   ],
   "source": [
    "print(df_transactions.shape)\n",
    "print(df_transactions.from_account.nunique(), df_transactions.to_account.nunique())"
   ],
   "metadata": {
    "collapsed": false
   }
  },
  {
   "cell_type": "markdown",
   "source": [
    "## Preprocessing"
   ],
   "metadata": {
    "collapsed": false
   }
  },
  {
   "cell_type": "code",
   "execution_count": 35,
   "outputs": [
    {
     "name": "stdout",
     "output_type": "stream",
     "text": [
      "from_account            0\n",
      "to_account              0\n",
      "transaction_time_utc    0\n",
      "value                   0\n",
      "gas                     0\n",
      "gas_price               0\n",
      "dtype: int64\n"
     ]
    }
   ],
   "source": [
    "print(df_transactions.isnull().sum())"
   ],
   "metadata": {
    "collapsed": false
   }
  },
  {
   "cell_type": "code",
   "execution_count": 36,
   "outputs": [],
   "source": [
    "df_transactions.transaction_time_utc = pd.to_datetime(df_transactions.transaction_time_utc)\n",
    "df_transactions['transaction_year'] = df_transactions.transaction_time_utc.dt.year.astype(int)\n",
    "df_transactions['transaction_month_year'] = df_transactions.transaction_time_utc.dt.to_period('M')\n",
    "df_transactions['transaction_date'] = df_transactions.transaction_time_utc.dt.date"
   ],
   "metadata": {
    "collapsed": false
   }
  },
  {
   "cell_type": "code",
   "execution_count": 37,
   "outputs": [
    {
     "data": {
      "text/plain": "count    5.826604e+06\nmean     1.526253e+07\nstd      9.673410e+07\nmin      0.000000e+00\n25%      4.590000e+05\n50%      1.890000e+06\n75%      9.000000e+06\nmax      6.923966e+10\nName: gas_fee, dtype: float64"
     },
     "execution_count": 37,
     "metadata": {},
     "output_type": "execute_result"
    }
   ],
   "source": [
    "df_transactions['gas_price'] = df_transactions['gas_price'].div(1000000000)\n",
    "df_transactions['gas_fee'] = df_transactions['gas'].mul(df_transactions['gas_price'])\n",
    "df_transactions['gas_fee'].describe()"
   ],
   "metadata": {
    "collapsed": false
   }
  },
  {
   "cell_type": "code",
   "execution_count": 38,
   "outputs": [],
   "source": [
    "df_transactions = df_transactions.assign(count_flag=1)\n",
    "df_transactions['is_token'] = np.where(df_transactions['value']=='0', 1, 0)\n",
    "df_transactions['value_digit'] = df_transactions.value.apply(lambda x: len(x))"
   ],
   "metadata": {
    "collapsed": false
   }
  },
  {
   "cell_type": "code",
   "execution_count": 39,
   "outputs": [],
   "source": [
    "df_transactions_part_1 = df_transactions.copy()"
   ],
   "metadata": {
    "collapsed": false
   }
  },
  {
   "cell_type": "code",
   "execution_count": 40,
   "outputs": [
    {
     "data": {
      "text/plain": "                gas     gas_price  transaction_year       gas_fee  count_flag  \\\ncount  5.826604e+06  5.826604e+06      5.826604e+06  5.826604e+06   5826604.0   \nmean   2.450964e+05  5.544367e+01      2.019302e+03  1.526253e+07         1.0   \nstd    5.374690e+05  2.084319e+02      1.047990e+00  9.673410e+07         0.0   \nmin    2.100000e+04  0.000000e+00      2.016000e+03  0.000000e+00         1.0   \n25%    5.000000e+04  6.000000e+00      2.019000e+03  4.590000e+05         1.0   \n50%    9.000000e+04  2.000000e+01      2.020000e+03  1.890000e+06         1.0   \n75%    2.500000e+05  6.000000e+01      2.020000e+03  9.000000e+06         1.0   \nmax    1.202223e+07  1.713970e+05      2.021000e+03  6.923966e+10         1.0   \n\n           is_token   value_digit  \ncount  5.826604e+06  5.826604e+06  \nmean   6.311481e-01  7.170294e+00  \nstd    4.824937e-01  8.108089e+00  \nmin    0.000000e+00  1.000000e+00  \n25%    0.000000e+00  1.000000e+00  \n50%    1.000000e+00  1.000000e+00  \n75%    1.000000e+00  1.700000e+01  \nmax    1.000000e+00  2.300000e+01  ",
      "text/html": "<div>\n<style scoped>\n    .dataframe tbody tr th:only-of-type {\n        vertical-align: middle;\n    }\n\n    .dataframe tbody tr th {\n        vertical-align: top;\n    }\n\n    .dataframe thead th {\n        text-align: right;\n    }\n</style>\n<table border=\"1\" class=\"dataframe\">\n  <thead>\n    <tr style=\"text-align: right;\">\n      <th></th>\n      <th>gas</th>\n      <th>gas_price</th>\n      <th>transaction_year</th>\n      <th>gas_fee</th>\n      <th>count_flag</th>\n      <th>is_token</th>\n      <th>value_digit</th>\n    </tr>\n  </thead>\n  <tbody>\n    <tr>\n      <th>count</th>\n      <td>5.826604e+06</td>\n      <td>5.826604e+06</td>\n      <td>5.826604e+06</td>\n      <td>5.826604e+06</td>\n      <td>5826604.0</td>\n      <td>5.826604e+06</td>\n      <td>5.826604e+06</td>\n    </tr>\n    <tr>\n      <th>mean</th>\n      <td>2.450964e+05</td>\n      <td>5.544367e+01</td>\n      <td>2.019302e+03</td>\n      <td>1.526253e+07</td>\n      <td>1.0</td>\n      <td>6.311481e-01</td>\n      <td>7.170294e+00</td>\n    </tr>\n    <tr>\n      <th>std</th>\n      <td>5.374690e+05</td>\n      <td>2.084319e+02</td>\n      <td>1.047990e+00</td>\n      <td>9.673410e+07</td>\n      <td>0.0</td>\n      <td>4.824937e-01</td>\n      <td>8.108089e+00</td>\n    </tr>\n    <tr>\n      <th>min</th>\n      <td>2.100000e+04</td>\n      <td>0.000000e+00</td>\n      <td>2.016000e+03</td>\n      <td>0.000000e+00</td>\n      <td>1.0</td>\n      <td>0.000000e+00</td>\n      <td>1.000000e+00</td>\n    </tr>\n    <tr>\n      <th>25%</th>\n      <td>5.000000e+04</td>\n      <td>6.000000e+00</td>\n      <td>2.019000e+03</td>\n      <td>4.590000e+05</td>\n      <td>1.0</td>\n      <td>0.000000e+00</td>\n      <td>1.000000e+00</td>\n    </tr>\n    <tr>\n      <th>50%</th>\n      <td>9.000000e+04</td>\n      <td>2.000000e+01</td>\n      <td>2.020000e+03</td>\n      <td>1.890000e+06</td>\n      <td>1.0</td>\n      <td>1.000000e+00</td>\n      <td>1.000000e+00</td>\n    </tr>\n    <tr>\n      <th>75%</th>\n      <td>2.500000e+05</td>\n      <td>6.000000e+01</td>\n      <td>2.020000e+03</td>\n      <td>9.000000e+06</td>\n      <td>1.0</td>\n      <td>1.000000e+00</td>\n      <td>1.700000e+01</td>\n    </tr>\n    <tr>\n      <th>max</th>\n      <td>1.202223e+07</td>\n      <td>1.713970e+05</td>\n      <td>2.021000e+03</td>\n      <td>6.923966e+10</td>\n      <td>1.0</td>\n      <td>1.000000e+00</td>\n      <td>2.300000e+01</td>\n    </tr>\n  </tbody>\n</table>\n</div>"
     },
     "execution_count": 40,
     "metadata": {},
     "output_type": "execute_result"
    }
   ],
   "source": [
    "df_transactions.describe()"
   ],
   "metadata": {
    "collapsed": false
   }
  },
  {
   "cell_type": "markdown",
   "source": [
    "# Dataset Construction\n",
    "\n",
    "## Feature Engineering\n",
    "\n",
    "1. from account features\n",
    "2. to account features\n",
    "\n",
    "- maximum, mean, std transaction number within the same date / month / year\n",
    "- total number of transaction\n",
    "- year count\n",
    "- from/to account identified as fraud count\n",
    "- total number of token/non-token transaction\n",
    "- max, min, mean, std of gas price / gas / gas_fee\n",
    "- max, min, mean, std of transaction value_digit"
   ],
   "metadata": {
    "collapsed": false
   }
  },
  {
   "cell_type": "code",
   "execution_count": 41,
   "outputs": [
    {
     "data": {
      "text/plain": "Index(['from_account', 'to_account', 'transaction_time_utc', 'value', 'gas',\n       'gas_price', 'transaction_year', 'transaction_month_year',\n       'transaction_date', 'gas_fee', 'count_flag', 'is_token', 'value_digit'],\n      dtype='object')"
     },
     "execution_count": 41,
     "metadata": {},
     "output_type": "execute_result"
    }
   ],
   "source": [
    "df_transactions.columns"
   ],
   "metadata": {
    "collapsed": false
   }
  },
  {
   "cell_type": "code",
   "execution_count": 42,
   "outputs": [],
   "source": [
    "df_all = pd.DataFrame(data={'account': whole_list})\n",
    "df_all = df_all.assign(src_dst_account_fraud_or_not=0)\n",
    "\n",
    "usable_var = ['transaction_date', 'transaction_year', 'transaction_month_year',\n",
    "              'gas', 'gas_price', 'gas_fee', 'is_token', 'value_digit', 'count_flag']\n",
    "\n",
    "for var in ['src', 'dst']:\n",
    "    if var == 'src':\n",
    "        account_feature = 'from_account'\n",
    "        counter_feature = 'to_account'\n",
    "    else:\n",
    "        account_feature = 'to_account'\n",
    "        counter_feature = 'from_account'\n",
    "\n",
    "    # maximum, mean, std transaction number within the same date / month / year\n",
    "    for criteria in ['transaction_date', 'transaction_month_year', 'transaction_year']:\n",
    "        df_temp = df_transactions.groupby([account_feature, criteria]).count_flag.count()\n",
    "        df_temp_max = df_temp.reindex().groupby([account_feature]).max()\n",
    "        df_temp_max = df_temp_max.rename(f'{var}_max_records_by_{criteria}').reset_index()\n",
    "        df_temp_mean = df_temp.reindex().groupby([account_feature]).mean()\n",
    "        df_temp_mean = df_temp_mean.rename(f'{var}_mean_records_by_{criteria}').reset_index()\n",
    "        df_temp_std = df_temp.reindex().groupby([account_feature]).std(ddof=0)\n",
    "        df_temp_std = df_temp_std.rename(f'{var}_std_records_by_{criteria}').reset_index()\n",
    "\n",
    "        df_all = df_all.merge(df_temp_max, how='left', left_on='account',\n",
    "                              right_on=account_feature).drop(columns=account_feature)\n",
    "        df_all = df_all.merge(df_temp_mean, how='left', left_on='account',\n",
    "                              right_on=account_feature).drop(columns=account_feature)\n",
    "        df_all = df_all.merge(df_temp_std, how='left', left_on='account',\n",
    "                              right_on=account_feature).drop(columns=account_feature)\n",
    "    df_all = df_all.fillna(0)\n",
    "\n",
    "    # total number of transaction\n",
    "    df_temp_tot = df_transactions.groupby([account_feature]).count_flag.count()\n",
    "    df_temp_tot = df_temp_tot.rename(f'{var}_total_transactions').reset_index()\n",
    "    df_all = df_all.merge(df_temp_tot, how='left', left_on='account',\n",
    "                          right_on=account_feature).drop(columns=account_feature)\n",
    "    df_all = df_all.fillna(0)\n",
    "\n",
    "    # year count\n",
    "    df_temp_year = df_transactions.groupby([account_feature]).transaction_year.nunique()\n",
    "    df_temp_year = df_temp_year.rename(f'{var}_year_count').reset_index()\n",
    "    df_all = df_all.merge(df_temp_year, how='left', left_on='account',\n",
    "                          right_on=account_feature).drop(columns=account_feature)\n",
    "    df_all = df_all.fillna(0)\n",
    "\n",
    "    # from/to account identified as fraud count: 0 is unknown / not fraud\n",
    "    df_temp_fraud = df_transactions.merge(df_train, how='left', left_on=counter_feature,\n",
    "                                          right_on='account').drop(columns='account')\n",
    "    df_temp_fraud = df_temp_fraud.groupby([account_feature]).flag.max()\n",
    "    df_temp_fraud = df_temp_fraud.rename(f'flag_{var}').reset_index().fillna(0)\n",
    "    df_all = df_all.merge(df_temp_fraud, how='left', left_on='account',\n",
    "                          right_on=account_feature).drop(columns=account_feature)\n",
    "    df_all['src_dst_account_fraud_or_not'] = np.where(df_all[f'flag_{var}']==1,\n",
    "                                                      1, df_all['src_dst_account_fraud_or_not'])\n",
    "\n",
    "    # total number of token/non-token transaction\n",
    "    df_temp_token = df_transactions.groupby([account_feature]).is_token.sum()\n",
    "    df_temp_token = df_temp_token.rename(f'{var}_token_record_count').reset_index()\n",
    "    df_all = df_all.merge(df_temp_token, how='left', left_on='account',\n",
    "                          right_on=account_feature).drop(columns=account_feature)\n",
    "    df_all = df_all.fillna(0)\n",
    "\n",
    "    # max, min, mean, std of gas price / gas / gas_fee\n",
    "    for feature in ['gas', 'gas_price', 'gas_fee']:\n",
    "        df_temp_max = df_transactions.groupby([account_feature])[feature].max()\n",
    "        df_temp_max = df_temp_max.rename(f'{var}_max_{feature}').reset_index()\n",
    "        df_temp_min = df_transactions.groupby([account_feature])[feature].min()\n",
    "        df_temp_min = df_temp_min.rename(f'{var}_min_{feature}').reset_index()\n",
    "        df_temp_mean = df_transactions.groupby([account_feature])[feature].mean()\n",
    "        df_temp_mean = df_temp_mean.rename(f'{var}_mean_{feature}').reset_index()\n",
    "        df_temp_std = df_transactions.groupby([account_feature])[feature].std(ddof=0)\n",
    "        df_temp_std = df_temp_std.rename(f'{var}_std_{feature}').reset_index()\n",
    "\n",
    "        df_all = df_all.merge(df_temp_max, how='left', left_on='account',\n",
    "                              right_on=account_feature).drop(columns=account_feature)\n",
    "        df_all = df_all.merge(df_temp_min, how='left', left_on='account',\n",
    "                              right_on=account_feature).drop(columns=account_feature)\n",
    "        df_all = df_all.merge(df_temp_mean, how='left', left_on='account',\n",
    "                              right_on=account_feature).drop(columns=account_feature)\n",
    "        df_all = df_all.merge(df_temp_std, how='left', left_on='account',\n",
    "                              right_on=account_feature).drop(columns=account_feature)\n",
    "    df_all = df_all.fillna(0)\n",
    "\n",
    "    # max, min, mean, std of transaction value_digit\n",
    "    for feature in ['value_digit']:\n",
    "        df_temp_max = df_transactions.groupby([account_feature])[feature].max()\n",
    "        df_temp_max = df_temp_max.rename(f'{var}_max_{feature}').reset_index()\n",
    "        df_temp_min = df_transactions.groupby([account_feature])[feature].min()\n",
    "        df_temp_min = df_temp_min.rename(f'{var}_min_{feature}').reset_index()\n",
    "        df_temp_mean = df_transactions.groupby([account_feature])[feature].mean()\n",
    "        df_temp_mean = df_temp_mean.rename(f'{var}_mean_{feature}').reset_index()\n",
    "        df_temp_std = df_transactions.groupby([account_feature])[feature].std(ddof=0)\n",
    "        df_temp_std = df_temp_std.rename(f'{var}_std_{feature}').reset_index()\n",
    "\n",
    "        df_all = df_all.merge(df_temp_max, how='left', left_on='account',\n",
    "                              right_on=account_feature).drop(columns=account_feature)\n",
    "        df_all = df_all.merge(df_temp_min, how='left', left_on='account',\n",
    "                              right_on=account_feature).drop(columns=account_feature)\n",
    "        df_all = df_all.merge(df_temp_mean, how='left', left_on='account',\n",
    "                              right_on=account_feature).drop(columns=account_feature)\n",
    "        df_all = df_all.merge(df_temp_std, how='left', left_on='account',\n",
    "                              right_on=account_feature).drop(columns=account_feature)\n",
    "    df_all = df_all.fillna(0)"
   ],
   "metadata": {
    "collapsed": false
   }
  },
  {
   "cell_type": "code",
   "execution_count": 43,
   "outputs": [],
   "source": [
    "df_all_part2 = df_all.copy()\n",
    "df_all_part2.to_pickle('data/df_all_part2.pkl')"
   ],
   "metadata": {
    "collapsed": false
   }
  },
  {
   "cell_type": "code",
   "execution_count": 44,
   "outputs": [
    {
     "data": {
      "text/plain": "          account  src_dst_account_fraud_or_not  \\\nnull_pct      0.0                           0.0   \n\n          dst_mean_records_by_transaction_date  \\\nnull_pct                                   0.0   \n\n          dst_std_records_by_transaction_date  \\\nnull_pct                                  0.0   \n\n          dst_max_records_by_transaction_month_year  \\\nnull_pct                                        0.0   \n\n          dst_mean_records_by_transaction_month_year  \\\nnull_pct                                         0.0   \n\n          dst_std_records_by_transaction_month_year  \\\nnull_pct                                        0.0   \n\n          dst_max_records_by_transaction_year  \\\nnull_pct                                  0.0   \n\n          dst_mean_records_by_transaction_year  \\\nnull_pct                                   0.0   \n\n          dst_std_records_by_transaction_year  ...  src_max_gas_price  \\\nnull_pct                                  0.0  ...                0.0   \n\n          src_min_gas_price  src_mean_gas_price  src_std_gas_price  \\\nnull_pct                0.0                 0.0                0.0   \n\n          src_max_gas_fee  src_min_gas_fee  src_mean_gas_fee  src_std_gas_fee  \\\nnull_pct              0.0              0.0               0.0              0.0   \n\n          src_max_value_digit  dst_std_value_digit  \nnull_pct                  0.0                  0.0  \n\n[1 rows x 60 columns]",
      "text/html": "<div>\n<style scoped>\n    .dataframe tbody tr th:only-of-type {\n        vertical-align: middle;\n    }\n\n    .dataframe tbody tr th {\n        vertical-align: top;\n    }\n\n    .dataframe thead th {\n        text-align: right;\n    }\n</style>\n<table border=\"1\" class=\"dataframe\">\n  <thead>\n    <tr style=\"text-align: right;\">\n      <th></th>\n      <th>account</th>\n      <th>src_dst_account_fraud_or_not</th>\n      <th>dst_mean_records_by_transaction_date</th>\n      <th>dst_std_records_by_transaction_date</th>\n      <th>dst_max_records_by_transaction_month_year</th>\n      <th>dst_mean_records_by_transaction_month_year</th>\n      <th>dst_std_records_by_transaction_month_year</th>\n      <th>dst_max_records_by_transaction_year</th>\n      <th>dst_mean_records_by_transaction_year</th>\n      <th>dst_std_records_by_transaction_year</th>\n      <th>...</th>\n      <th>src_max_gas_price</th>\n      <th>src_min_gas_price</th>\n      <th>src_mean_gas_price</th>\n      <th>src_std_gas_price</th>\n      <th>src_max_gas_fee</th>\n      <th>src_min_gas_fee</th>\n      <th>src_mean_gas_fee</th>\n      <th>src_std_gas_fee</th>\n      <th>src_max_value_digit</th>\n      <th>dst_std_value_digit</th>\n    </tr>\n  </thead>\n  <tbody>\n    <tr>\n      <th>null_pct</th>\n      <td>0.0</td>\n      <td>0.0</td>\n      <td>0.0</td>\n      <td>0.0</td>\n      <td>0.0</td>\n      <td>0.0</td>\n      <td>0.0</td>\n      <td>0.0</td>\n      <td>0.0</td>\n      <td>0.0</td>\n      <td>...</td>\n      <td>0.0</td>\n      <td>0.0</td>\n      <td>0.0</td>\n      <td>0.0</td>\n      <td>0.0</td>\n      <td>0.0</td>\n      <td>0.0</td>\n      <td>0.0</td>\n      <td>0.0</td>\n      <td>0.0</td>\n    </tr>\n  </tbody>\n</table>\n<p>1 rows × 60 columns</p>\n</div>"
     },
     "metadata": {},
     "output_type": "display_data"
    },
    {
     "data": {
      "text/plain": "       src_dst_account_fraud_or_not  src_max_records_by_transaction_date  \\\ncount                  31498.000000                         31498.000000   \nmean                       0.022954                             7.625056   \nstd                        0.149759                            77.702994   \nmin                        0.000000                             0.000000   \n25%                        0.000000                             1.000000   \n50%                        0.000000                             2.000000   \n75%                        0.000000                             4.000000   \nmax                        1.000000                          6308.000000   \n\n       src_mean_records_by_transaction_date  \\\ncount                          31498.000000   \nmean                               2.214283   \nstd                                9.856640   \nmin                                0.000000   \n25%                                1.000000   \n50%                                1.166667   \n75%                                2.000000   \nmax                              854.777778   \n\n       src_std_records_by_transaction_date  \\\ncount                         31498.000000   \nmean                              1.375487   \nstd                              11.712608   \nmin                               0.000000   \n25%                               0.000000   \n50%                               0.205381   \n75%                               0.829156   \nmax                            1062.457950   \n\n       src_max_records_by_transaction_month_year  \\\ncount                               31498.000000   \nmean                                   28.888564   \nstd                                   351.726158   \nmin                                     0.000000   \n25%                                     1.000000   \n50%                                     4.000000   \n75%                                    10.000000   \nmax                                 40397.000000   \n\n       src_mean_records_by_transaction_month_year  \\\ncount                                31498.000000   \nmean                                    11.281139   \nstd                                    115.172637   \nmin                                      0.000000   \n25%                                      1.000000   \n50%                                      2.500000   \n75%                                      5.000000   \nmax                                   8366.142857   \n\n       src_std_records_by_transaction_month_year  \\\ncount                               31498.000000   \nmean                                    8.700305   \nstd                                   114.144330   \nmin                                     0.000000   \n25%                                     0.000000   \n50%                                     0.707107   \n75%                                     2.943920   \nmax                                 13772.158389   \n\n       src_max_records_by_transaction_year  \\\ncount                         31498.000000   \nmean                             66.339450   \nstd                             708.100917   \nmin                               0.000000   \n25%                               2.000000   \n50%                               6.000000   \n75%                              22.000000   \nmax                           58563.000000   \n\n       src_mean_records_by_transaction_year  \\\ncount                          31498.000000   \nmean                              43.096857   \nstd                              528.918592   \nmin                                0.000000   \n25%                                2.000000   \n50%                                5.000000   \n75%                               15.666667   \nmax                            58563.000000   \n\n       src_std_records_by_transaction_year  ...  dst_mean_gas_price  \\\ncount                         31498.000000  ...        31498.000000   \nmean                             19.782068  ...           44.848855   \nstd                             233.016010  ...           56.288204   \nmin                               0.000000  ...            0.000000   \n25%                               0.000000  ...           10.500000   \n50%                               0.000000  ...           26.439062   \n75%                               3.741657  ...           55.434643   \nmax                           12085.018628  ...         1210.420130   \n\n       dst_std_gas_price  dst_max_gas_fee  dst_min_gas_fee  dst_mean_gas_fee  \\\ncount       31498.000000     3.149800e+04     3.149800e+04      3.149800e+04   \nmean           21.770248     1.103431e+07     1.051480e+06      2.612086e+06   \nstd            43.749636     8.235071e+07     4.148342e+06      7.441957e+06   \nmin             0.000000     0.000000e+00     0.000000e+00      0.000000e+00   \n25%             0.000000     5.670000e+05     6.300000e+04      3.832634e+05   \n50%             7.850542     2.205259e+06     2.625000e+05      1.092000e+06   \n75%            25.981440     7.500000e+06     8.781150e+05      2.566087e+06   \nmax          2144.796031     6.492470e+09     2.000000e+08      3.107304e+08   \n\n       dst_std_gas_fee  dst_max_value_digit  dst_min_value_digit  \\\ncount     3.149800e+04         31498.000000         31498.000000   \nmean      1.972031e+06            17.606515            15.090799   \nstd       7.895046e+06             3.651680             5.356001   \nmin       0.000000e+00             0.000000             0.000000   \n25%       0.000000e+00            17.000000            16.000000   \n50%       3.551181e+05            18.000000            17.000000   \n75%       1.661411e+06            19.000000            18.000000   \nmax       5.918665e+08            23.000000            23.000000   \n\n       dst_mean_value_digit  dst_std_value_digit  \ncount          31498.000000         31498.000000  \nmean              16.636491             0.797434  \nstd                3.814936             1.634922  \nmin                0.000000             0.000000  \n25%               16.500000             0.000000  \n50%               17.500000             0.427790  \n75%               18.250000             0.742307  \nmax               23.000000            10.000000  \n\n[8 rows x 59 columns]",
      "text/html": "<div>\n<style scoped>\n    .dataframe tbody tr th:only-of-type {\n        vertical-align: middle;\n    }\n\n    .dataframe tbody tr th {\n        vertical-align: top;\n    }\n\n    .dataframe thead th {\n        text-align: right;\n    }\n</style>\n<table border=\"1\" class=\"dataframe\">\n  <thead>\n    <tr style=\"text-align: right;\">\n      <th></th>\n      <th>src_dst_account_fraud_or_not</th>\n      <th>src_max_records_by_transaction_date</th>\n      <th>src_mean_records_by_transaction_date</th>\n      <th>src_std_records_by_transaction_date</th>\n      <th>src_max_records_by_transaction_month_year</th>\n      <th>src_mean_records_by_transaction_month_year</th>\n      <th>src_std_records_by_transaction_month_year</th>\n      <th>src_max_records_by_transaction_year</th>\n      <th>src_mean_records_by_transaction_year</th>\n      <th>src_std_records_by_transaction_year</th>\n      <th>...</th>\n      <th>dst_mean_gas_price</th>\n      <th>dst_std_gas_price</th>\n      <th>dst_max_gas_fee</th>\n      <th>dst_min_gas_fee</th>\n      <th>dst_mean_gas_fee</th>\n      <th>dst_std_gas_fee</th>\n      <th>dst_max_value_digit</th>\n      <th>dst_min_value_digit</th>\n      <th>dst_mean_value_digit</th>\n      <th>dst_std_value_digit</th>\n    </tr>\n  </thead>\n  <tbody>\n    <tr>\n      <th>count</th>\n      <td>31498.000000</td>\n      <td>31498.000000</td>\n      <td>31498.000000</td>\n      <td>31498.000000</td>\n      <td>31498.000000</td>\n      <td>31498.000000</td>\n      <td>31498.000000</td>\n      <td>31498.000000</td>\n      <td>31498.000000</td>\n      <td>31498.000000</td>\n      <td>...</td>\n      <td>31498.000000</td>\n      <td>31498.000000</td>\n      <td>3.149800e+04</td>\n      <td>3.149800e+04</td>\n      <td>3.149800e+04</td>\n      <td>3.149800e+04</td>\n      <td>31498.000000</td>\n      <td>31498.000000</td>\n      <td>31498.000000</td>\n      <td>31498.000000</td>\n    </tr>\n    <tr>\n      <th>mean</th>\n      <td>0.022954</td>\n      <td>7.625056</td>\n      <td>2.214283</td>\n      <td>1.375487</td>\n      <td>28.888564</td>\n      <td>11.281139</td>\n      <td>8.700305</td>\n      <td>66.339450</td>\n      <td>43.096857</td>\n      <td>19.782068</td>\n      <td>...</td>\n      <td>44.848855</td>\n      <td>21.770248</td>\n      <td>1.103431e+07</td>\n      <td>1.051480e+06</td>\n      <td>2.612086e+06</td>\n      <td>1.972031e+06</td>\n      <td>17.606515</td>\n      <td>15.090799</td>\n      <td>16.636491</td>\n      <td>0.797434</td>\n    </tr>\n    <tr>\n      <th>std</th>\n      <td>0.149759</td>\n      <td>77.702994</td>\n      <td>9.856640</td>\n      <td>11.712608</td>\n      <td>351.726158</td>\n      <td>115.172637</td>\n      <td>114.144330</td>\n      <td>708.100917</td>\n      <td>528.918592</td>\n      <td>233.016010</td>\n      <td>...</td>\n      <td>56.288204</td>\n      <td>43.749636</td>\n      <td>8.235071e+07</td>\n      <td>4.148342e+06</td>\n      <td>7.441957e+06</td>\n      <td>7.895046e+06</td>\n      <td>3.651680</td>\n      <td>5.356001</td>\n      <td>3.814936</td>\n      <td>1.634922</td>\n    </tr>\n    <tr>\n      <th>min</th>\n      <td>0.000000</td>\n      <td>0.000000</td>\n      <td>0.000000</td>\n      <td>0.000000</td>\n      <td>0.000000</td>\n      <td>0.000000</td>\n      <td>0.000000</td>\n      <td>0.000000</td>\n      <td>0.000000</td>\n      <td>0.000000</td>\n      <td>...</td>\n      <td>0.000000</td>\n      <td>0.000000</td>\n      <td>0.000000e+00</td>\n      <td>0.000000e+00</td>\n      <td>0.000000e+00</td>\n      <td>0.000000e+00</td>\n      <td>0.000000</td>\n      <td>0.000000</td>\n      <td>0.000000</td>\n      <td>0.000000</td>\n    </tr>\n    <tr>\n      <th>25%</th>\n      <td>0.000000</td>\n      <td>1.000000</td>\n      <td>1.000000</td>\n      <td>0.000000</td>\n      <td>1.000000</td>\n      <td>1.000000</td>\n      <td>0.000000</td>\n      <td>2.000000</td>\n      <td>2.000000</td>\n      <td>0.000000</td>\n      <td>...</td>\n      <td>10.500000</td>\n      <td>0.000000</td>\n      <td>5.670000e+05</td>\n      <td>6.300000e+04</td>\n      <td>3.832634e+05</td>\n      <td>0.000000e+00</td>\n      <td>17.000000</td>\n      <td>16.000000</td>\n      <td>16.500000</td>\n      <td>0.000000</td>\n    </tr>\n    <tr>\n      <th>50%</th>\n      <td>0.000000</td>\n      <td>2.000000</td>\n      <td>1.166667</td>\n      <td>0.205381</td>\n      <td>4.000000</td>\n      <td>2.500000</td>\n      <td>0.707107</td>\n      <td>6.000000</td>\n      <td>5.000000</td>\n      <td>0.000000</td>\n      <td>...</td>\n      <td>26.439062</td>\n      <td>7.850542</td>\n      <td>2.205259e+06</td>\n      <td>2.625000e+05</td>\n      <td>1.092000e+06</td>\n      <td>3.551181e+05</td>\n      <td>18.000000</td>\n      <td>17.000000</td>\n      <td>17.500000</td>\n      <td>0.427790</td>\n    </tr>\n    <tr>\n      <th>75%</th>\n      <td>0.000000</td>\n      <td>4.000000</td>\n      <td>2.000000</td>\n      <td>0.829156</td>\n      <td>10.000000</td>\n      <td>5.000000</td>\n      <td>2.943920</td>\n      <td>22.000000</td>\n      <td>15.666667</td>\n      <td>3.741657</td>\n      <td>...</td>\n      <td>55.434643</td>\n      <td>25.981440</td>\n      <td>7.500000e+06</td>\n      <td>8.781150e+05</td>\n      <td>2.566087e+06</td>\n      <td>1.661411e+06</td>\n      <td>19.000000</td>\n      <td>18.000000</td>\n      <td>18.250000</td>\n      <td>0.742307</td>\n    </tr>\n    <tr>\n      <th>max</th>\n      <td>1.000000</td>\n      <td>6308.000000</td>\n      <td>854.777778</td>\n      <td>1062.457950</td>\n      <td>40397.000000</td>\n      <td>8366.142857</td>\n      <td>13772.158389</td>\n      <td>58563.000000</td>\n      <td>58563.000000</td>\n      <td>12085.018628</td>\n      <td>...</td>\n      <td>1210.420130</td>\n      <td>2144.796031</td>\n      <td>6.492470e+09</td>\n      <td>2.000000e+08</td>\n      <td>3.107304e+08</td>\n      <td>5.918665e+08</td>\n      <td>23.000000</td>\n      <td>23.000000</td>\n      <td>23.000000</td>\n      <td>10.000000</td>\n    </tr>\n  </tbody>\n</table>\n<p>8 rows × 59 columns</p>\n</div>"
     },
     "metadata": {},
     "output_type": "display_data"
    }
   ],
   "source": [
    "display(df_all.isnull().mean().to_frame(name='null_pct').sort_values('null_pct', ascending=False).T)\n",
    "display(df_all.describe())"
   ],
   "metadata": {
    "collapsed": false
   }
  },
  {
   "cell_type": "markdown",
   "source": [
    "## EDA\n",
    "\n",
    "- explore distribution: implement log transformation\n",
    "- profiling, correlation plot"
   ],
   "metadata": {
    "collapsed": false
   }
  },
  {
   "cell_type": "code",
   "execution_count": 45,
   "outputs": [
    {
     "name": "stdout",
     "output_type": "stream",
     "text": [
      "Index(['account', 'src_dst_account_fraud_or_not',\n",
      "       'src_max_records_by_transaction_date',\n",
      "       'src_mean_records_by_transaction_date',\n",
      "       'src_std_records_by_transaction_date',\n",
      "       'src_max_records_by_transaction_month_year',\n",
      "       'src_mean_records_by_transaction_month_year',\n",
      "       'src_std_records_by_transaction_month_year',\n",
      "       'src_max_records_by_transaction_year',\n",
      "       'src_mean_records_by_transaction_year',\n",
      "       'src_std_records_by_transaction_year', 'src_total_transactions',\n",
      "       'src_year_count', 'flag_src', 'src_token_record_count', 'src_max_gas',\n",
      "       'src_min_gas', 'src_mean_gas', 'src_std_gas', 'src_max_gas_price',\n",
      "       'src_min_gas_price', 'src_mean_gas_price', 'src_std_gas_price',\n",
      "       'src_max_gas_fee', 'src_min_gas_fee', 'src_mean_gas_fee',\n",
      "       'src_std_gas_fee', 'src_max_value_digit', 'src_min_value_digit',\n",
      "       'src_mean_value_digit', 'src_std_value_digit',\n",
      "       'dst_max_records_by_transaction_date',\n",
      "       'dst_mean_records_by_transaction_date',\n",
      "       'dst_std_records_by_transaction_date',\n",
      "       'dst_max_records_by_transaction_month_year',\n",
      "       'dst_mean_records_by_transaction_month_year',\n",
      "       'dst_std_records_by_transaction_month_year',\n",
      "       'dst_max_records_by_transaction_year',\n",
      "       'dst_mean_records_by_transaction_year',\n",
      "       'dst_std_records_by_transaction_year', 'dst_total_transactions',\n",
      "       'dst_year_count', 'flag_dst', 'dst_token_record_count', 'dst_max_gas',\n",
      "       'dst_min_gas', 'dst_mean_gas', 'dst_std_gas', 'dst_max_gas_price',\n",
      "       'dst_min_gas_price', 'dst_mean_gas_price', 'dst_std_gas_price',\n",
      "       'dst_max_gas_fee', 'dst_min_gas_fee', 'dst_mean_gas_fee',\n",
      "       'dst_std_gas_fee', 'dst_max_value_digit', 'dst_min_value_digit',\n",
      "       'dst_mean_value_digit', 'dst_std_value_digit'],\n",
      "      dtype='object')\n"
     ]
    }
   ],
   "source": [
    "print(df_all.columns)"
   ],
   "metadata": {
    "collapsed": false
   }
  },
  {
   "cell_type": "code",
   "execution_count": 46,
   "outputs": [],
   "source": [
    "df_all = pd.read_pickle('data/df_all_part2.pkl')\n",
    "\n",
    "usable_var = ['account', 'src_dst_account_fraud_or_not',\n",
    "              'src_max_records_by_transaction_date',\n",
    "              'src_mean_records_by_transaction_date',\n",
    "              'src_std_records_by_transaction_date',\n",
    "              'src_max_records_by_transaction_month_year',\n",
    "              'src_mean_records_by_transaction_month_year',\n",
    "              'src_std_records_by_transaction_month_year',\n",
    "              'src_max_records_by_transaction_year',\n",
    "              'src_mean_records_by_transaction_year',\n",
    "              'src_std_records_by_transaction_year',\n",
    "              'src_total_transactions', 'src_year_count',\n",
    "              'src_token_record_count',\n",
    "              'src_max_gas', 'src_min_gas', 'src_mean_gas', 'src_std_gas',\n",
    "              'src_max_gas_price', 'src_min_gas_price',\n",
    "              'src_mean_gas_price', 'src_std_gas_price',\n",
    "              'src_max_gas_fee', 'src_min_gas_fee',\n",
    "              'src_mean_gas_fee', 'src_std_gas_fee',\n",
    "              'src_max_value_digit', 'src_min_value_digit',\n",
    "              'src_mean_value_digit', 'src_std_value_digit',\n",
    "              'dst_max_records_by_transaction_date',\n",
    "              'dst_mean_records_by_transaction_date',\n",
    "              'dst_std_records_by_transaction_date',\n",
    "              'dst_max_records_by_transaction_month_year',\n",
    "              'dst_mean_records_by_transaction_month_year',\n",
    "              'dst_std_records_by_transaction_month_year',\n",
    "              'dst_max_records_by_transaction_year',\n",
    "              'dst_mean_records_by_transaction_year',\n",
    "              'dst_std_records_by_transaction_year',\n",
    "              'dst_total_transactions', 'dst_year_count',\n",
    "              'dst_token_record_count',\n",
    "              'dst_max_gas', 'dst_min_gas', 'dst_mean_gas', 'dst_std_gas',\n",
    "              'dst_max_gas_price', 'dst_min_gas_price',\n",
    "              'dst_mean_gas_price', 'dst_std_gas_price',\n",
    "              'dst_max_gas_fee', 'dst_min_gas_fee',\n",
    "              'dst_mean_gas_fee', 'dst_std_gas_fee',\n",
    "              'dst_max_value_digit', 'dst_min_value_digit',\n",
    "              'dst_mean_value_digit', 'dst_std_value_digit']\n",
    "\n",
    "log_var = ['src_max_gas', 'src_min_gas',\n",
    "           'src_mean_gas', 'src_std_gas',\n",
    "           'src_max_gas_price', 'src_min_gas_price',\n",
    "           'src_mean_gas_price', 'src_std_gas_price',\n",
    "           'src_max_gas_fee', 'src_min_gas_fee',\n",
    "           'src_mean_gas_fee', 'src_std_gas_fee',\n",
    "           'dst_max_gas', 'dst_min_gas',\n",
    "           'dst_mean_gas', 'dst_std_gas',\n",
    "           'dst_max_gas_price', 'dst_min_gas_price',\n",
    "           'dst_mean_gas_price', 'dst_std_gas_price',\n",
    "           'dst_max_gas_fee', 'dst_min_gas_fee',\n",
    "           'dst_mean_gas_fee', 'dst_std_gas_fee']\n",
    "\n",
    "df_all = df_all[usable_var]"
   ],
   "metadata": {
    "collapsed": false
   }
  },
  {
   "cell_type": "code",
   "execution_count": 47,
   "outputs": [
    {
     "data": {
      "text/plain": "src_max_gas           0.0\nsrc_min_gas           0.0\nsrc_mean_gas          0.0\nsrc_std_gas           0.0\nsrc_max_gas_price     0.0\nsrc_min_gas_price     0.0\nsrc_mean_gas_price    0.0\nsrc_std_gas_price     0.0\nsrc_max_gas_fee       0.0\nsrc_min_gas_fee       0.0\nsrc_mean_gas_fee      0.0\nsrc_std_gas_fee       0.0\ndst_max_gas           0.0\ndst_min_gas           0.0\ndst_mean_gas          0.0\ndst_std_gas           0.0\ndst_max_gas_price     0.0\ndst_min_gas_price     0.0\ndst_mean_gas_price    0.0\ndst_std_gas_price     0.0\ndst_max_gas_fee       0.0\ndst_min_gas_fee       0.0\ndst_mean_gas_fee      0.0\ndst_std_gas_fee       0.0\ndtype: float64"
     },
     "execution_count": 47,
     "metadata": {},
     "output_type": "execute_result"
    }
   ],
   "source": [
    "df_all[log_var].isnull().mean()"
   ],
   "metadata": {
    "collapsed": false
   }
  },
  {
   "cell_type": "code",
   "execution_count": 48,
   "outputs": [],
   "source": [
    "# profile = ProfileReport(df_all, title=\"Feature Report\")\n",
    "# profile.to_file(\"data/feature_profile.html\")"
   ],
   "metadata": {
    "collapsed": false
   }
  },
  {
   "cell_type": "code",
   "execution_count": 50,
   "outputs": [],
   "source": [
    "for feature in log_var:\n",
    "    df_all[feature] = np.log1p(df_all[feature])\n",
    "\n",
    "df_all_part3 = df_all.copy()\n",
    "df_all_part3.to_pickle('data/df_all_part2.pkl')"
   ],
   "metadata": {
    "collapsed": false
   }
  },
  {
   "cell_type": "markdown",
   "source": [
    "# Modelling\n",
    "\n",
    "- implement models: regression, autoencoder, boosting, RNN"
   ],
   "metadata": {
    "collapsed": false
   }
  },
  {
   "cell_type": "code",
   "execution_count": null,
   "outputs": [],
   "source": [
    "X_train = df_all[df_all.account.isin(train_list)].sort_values(by='account').reset_index(drop=True)\n",
    "X_test = df_all[df_all.account.isin(test_list)].sort_values(by='account').reset_index(drop=True)"
   ],
   "metadata": {
    "collapsed": false
   }
  }
 ],
 "metadata": {
  "kernelspec": {
   "display_name": "Python 3",
   "language": "python",
   "name": "python3"
  },
  "language_info": {
   "codemirror_mode": {
    "name": "ipython",
    "version": 2
   },
   "file_extension": ".py",
   "mimetype": "text/x-python",
   "name": "python",
   "nbconvert_exporter": "python",
   "pygments_lexer": "ipython2",
   "version": "2.7.6"
  }
 },
 "nbformat": 4,
 "nbformat_minor": 0
}
