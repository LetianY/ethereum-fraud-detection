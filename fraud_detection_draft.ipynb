{
 "cells": [
  {
   "cell_type": "markdown",
   "source": [
    "# Ethereum Fraud Detection"
   ],
   "metadata": {
    "collapsed": false
   }
  },
  {
   "cell_type": "markdown",
   "source": [
    "## Import Packages and Read Data"
   ],
   "metadata": {
    "collapsed": false
   }
  },
  {
   "cell_type": "code",
   "execution_count": 4,
   "outputs": [],
   "source": [
    "import pandas as pd\n",
    "import numpy as np"
   ],
   "metadata": {
    "collapsed": false
   }
  },
  {
   "cell_type": "code",
   "execution_count": 5,
   "outputs": [],
   "source": [
    "df_train = pd.read_csv('train_accounts.csv')\n",
    "df_test = pd.read_csv('test_accounts.csv')\n",
    "df_transactions = pd.read_csv('transactions.csv')"
   ],
   "metadata": {
    "collapsed": false
   }
  },
  {
   "cell_type": "code",
   "execution_count": 6,
   "outputs": [
    {
     "name": "stdout",
     "output_type": "stream",
     "text": [
      "Training records: 25198 Testing records 6300\n",
      "Total records: 31498 31498\n",
      "Fraud records: 2455\n"
     ]
    }
   ],
   "source": [
    "train_list = df_train.account.to_list()\n",
    "test_list = df_test.account.to_list()\n",
    "whole_list = train_list + test_list\n",
    "\n",
    "print('Training records:', len(train_list), 'Testing records', len(test_list))\n",
    "print('Total records:', len(whole_list), len(set(whole_list)))\n",
    "\n",
    "fraud_list = df_train[df_train.flag == 1].account.to_list()\n",
    "print('Fraud records:', len(fraud_list))"
   ],
   "metadata": {
    "collapsed": false
   }
  },
  {
   "cell_type": "code",
   "execution_count": 7,
   "outputs": [
    {
     "name": "stdout",
     "output_type": "stream",
     "text": [
      "0    22743\n",
      "1     2455\n",
      "Name: flag, dtype: int64\n"
     ]
    }
   ],
   "source": [
    "# Flag Distribution\n",
    "print(df_train.flag.value_counts())"
   ],
   "metadata": {
    "collapsed": false
   }
  },
  {
   "cell_type": "code",
   "execution_count": 8,
   "outputs": [
    {
     "name": "stdout",
     "output_type": "stream",
     "text": [
      "from_account            0\n",
      "to_account              1\n",
      "transaction_time_utc    1\n",
      "value                   1\n",
      "gas                     1\n",
      "gas_price               1\n",
      "dtype: int64\n",
      "False\n",
      "False\n"
     ]
    },
    {
     "data": {
      "text/plain": "       from_account to_account transaction_time_utc value  gas  gas_price\n874984         b316        NaN                  NaN   NaN  NaN        NaN",
      "text/html": "<div>\n<style scoped>\n    .dataframe tbody tr th:only-of-type {\n        vertical-align: middle;\n    }\n\n    .dataframe tbody tr th {\n        vertical-align: top;\n    }\n\n    .dataframe thead th {\n        text-align: right;\n    }\n</style>\n<table border=\"1\" class=\"dataframe\">\n  <thead>\n    <tr style=\"text-align: right;\">\n      <th></th>\n      <th>from_account</th>\n      <th>to_account</th>\n      <th>transaction_time_utc</th>\n      <th>value</th>\n      <th>gas</th>\n      <th>gas_price</th>\n    </tr>\n  </thead>\n  <tbody>\n    <tr>\n      <th>874984</th>\n      <td>b316</td>\n      <td>NaN</td>\n      <td>NaN</td>\n      <td>NaN</td>\n      <td>NaN</td>\n      <td>NaN</td>\n    </tr>\n  </tbody>\n</table>\n</div>"
     },
     "metadata": {},
     "output_type": "display_data"
    }
   ],
   "source": [
    "print(df_transactions.isnull().sum())\n",
    "\n",
    "print('b316' in train_list)\n",
    "print('b316' in test_list)\n",
    "\n",
    "display(df_transactions[df_transactions.to_account.isnull()])\n",
    "df_transactions = df_transactions.dropna()"
   ],
   "metadata": {
    "collapsed": false
   }
  },
  {
   "cell_type": "markdown",
   "source": [
    "## Exploratory Data Analysis & Preprocessing"
   ],
   "metadata": {
    "collapsed": false
   }
  },
  {
   "cell_type": "code",
   "execution_count": 9,
   "outputs": [
    {
     "name": "stdout",
     "output_type": "stream",
     "text": [
      "(874984, 6)\n",
      "87798 80227\n"
     ]
    }
   ],
   "source": [
    "print(df_transactions.shape)\n",
    "print(df_transactions.from_account.nunique(), df_transactions.to_account.nunique())"
   ],
   "metadata": {
    "collapsed": false
   }
  },
  {
   "cell_type": "code",
   "execution_count": 10,
   "outputs": [],
   "source": [
    "df_transactions.transaction_time_utc = pd.to_datetime(df_transactions.transaction_time_utc)\n",
    "df_transactions['transaction_year'] = df_transactions.transaction_time_utc.dt.year\n",
    "df_transactions['transaction_month'] = df_transactions.transaction_time_utc.dt.month\n",
    "df_transactions['transaction_day'] = df_transactions.transaction_time_utc.dt.day"
   ],
   "metadata": {
    "collapsed": false
   }
  },
  {
   "cell_type": "code",
   "execution_count": 11,
   "outputs": [
    {
     "data": {
      "text/plain": "count    8.749840e+05\nmean     2.977605e+07\nstd      1.501229e+08\nmin      0.000000e+00\n25%      2.404282e+06\n50%      8.550000e+06\n75%      2.529370e+07\nmax      4.085285e+10\nName: gas_fee, dtype: float64"
     },
     "execution_count": 11,
     "metadata": {},
     "output_type": "execute_result"
    }
   ],
   "source": [
    "df_transactions['gas_price'] = df_transactions['gas_price'].div(1000000000)\n",
    "df_transactions['gas_fee'] = df_transactions['gas'].mul(df_transactions['gas_price'])\n",
    "df_transactions['gas_fee'].describe()"
   ],
   "metadata": {
    "collapsed": false
   }
  },
  {
   "cell_type": "code",
   "execution_count": 12,
   "outputs": [],
   "source": [
    "df_transactions['is_token'] = np.where(df_transactions['value']==0, 1, 0)\n",
    "df_transactions['value_digit'] = df_transactions.value.apply(lambda x: len(x))"
   ],
   "metadata": {
    "collapsed": false
   }
  },
  {
   "cell_type": "code",
   "execution_count": 13,
   "outputs": [
    {
     "data": {
      "text/plain": "       from_account to_account transaction_time_utc                value  \\\n0            a00996     b31499  2020-05-04 14:54:03                    0   \n1            a07890     b31500  2020-05-04 14:55:06                    0   \n2            a22857     b31501  2020-05-04 14:55:23                    0   \n3            a07890     b31502  2020-05-04 14:55:23   108900000000000000   \n4            a21390     b31501  2020-05-04 14:56:05                    0   \n...             ...        ...                  ...                  ...   \n874979       a12937    b177209  2020-09-09 18:57:49  2000000000000000000   \n874980       a22154     b36904  2020-09-09 18:57:49                    0   \n874981       a27216    b156802  2020-09-09 19:15:27                    0   \n874982       a15828    b176682  2020-09-09 18:57:54                    0   \n874983       a27216    b156802  2020-09-09 19:15:27                    0   \n\n              gas   gas_price  transaction_year  transaction_month  \\\n0         72585.0   11.500000              2020                  5   \n1         54426.0   11.349723              2020                  5   \n2        200000.0   14.024585              2020                  5   \n3         21000.0   11.349723              2020                  5   \n4        149999.0   32.000000              2020                  5   \n...           ...         ...               ...                ...   \n874979    21000.0  101.000000              2020                  9   \n874980   450000.0   93.730000              2020                  9   \n874981   350000.0  667.000000              2020                  9   \n874982  1256108.0   93.730000              2020                  9   \n874983   350000.0  190.000000              2020                  9   \n\n        transaction_day       gas_fee  is_token  value_digit  \n0                     4  8.347275e+05         0            1  \n1                     4  6.177200e+05         0            1  \n2                     4  2.804917e+06         0            1  \n3                     4  2.383442e+05         0           18  \n4                     4  4.799968e+06         0            1  \n...                 ...           ...       ...          ...  \n874979                9  2.121000e+06         0           19  \n874980                9  4.217850e+07         0            1  \n874981                9  2.334500e+08         0            1  \n874982                9  1.177350e+08         0            1  \n874983                9  6.650000e+07         0            1  \n\n[874984 rows x 12 columns]",
      "text/html": "<div>\n<style scoped>\n    .dataframe tbody tr th:only-of-type {\n        vertical-align: middle;\n    }\n\n    .dataframe tbody tr th {\n        vertical-align: top;\n    }\n\n    .dataframe thead th {\n        text-align: right;\n    }\n</style>\n<table border=\"1\" class=\"dataframe\">\n  <thead>\n    <tr style=\"text-align: right;\">\n      <th></th>\n      <th>from_account</th>\n      <th>to_account</th>\n      <th>transaction_time_utc</th>\n      <th>value</th>\n      <th>gas</th>\n      <th>gas_price</th>\n      <th>transaction_year</th>\n      <th>transaction_month</th>\n      <th>transaction_day</th>\n      <th>gas_fee</th>\n      <th>is_token</th>\n      <th>value_digit</th>\n    </tr>\n  </thead>\n  <tbody>\n    <tr>\n      <th>0</th>\n      <td>a00996</td>\n      <td>b31499</td>\n      <td>2020-05-04 14:54:03</td>\n      <td>0</td>\n      <td>72585.0</td>\n      <td>11.500000</td>\n      <td>2020</td>\n      <td>5</td>\n      <td>4</td>\n      <td>8.347275e+05</td>\n      <td>0</td>\n      <td>1</td>\n    </tr>\n    <tr>\n      <th>1</th>\n      <td>a07890</td>\n      <td>b31500</td>\n      <td>2020-05-04 14:55:06</td>\n      <td>0</td>\n      <td>54426.0</td>\n      <td>11.349723</td>\n      <td>2020</td>\n      <td>5</td>\n      <td>4</td>\n      <td>6.177200e+05</td>\n      <td>0</td>\n      <td>1</td>\n    </tr>\n    <tr>\n      <th>2</th>\n      <td>a22857</td>\n      <td>b31501</td>\n      <td>2020-05-04 14:55:23</td>\n      <td>0</td>\n      <td>200000.0</td>\n      <td>14.024585</td>\n      <td>2020</td>\n      <td>5</td>\n      <td>4</td>\n      <td>2.804917e+06</td>\n      <td>0</td>\n      <td>1</td>\n    </tr>\n    <tr>\n      <th>3</th>\n      <td>a07890</td>\n      <td>b31502</td>\n      <td>2020-05-04 14:55:23</td>\n      <td>108900000000000000</td>\n      <td>21000.0</td>\n      <td>11.349723</td>\n      <td>2020</td>\n      <td>5</td>\n      <td>4</td>\n      <td>2.383442e+05</td>\n      <td>0</td>\n      <td>18</td>\n    </tr>\n    <tr>\n      <th>4</th>\n      <td>a21390</td>\n      <td>b31501</td>\n      <td>2020-05-04 14:56:05</td>\n      <td>0</td>\n      <td>149999.0</td>\n      <td>32.000000</td>\n      <td>2020</td>\n      <td>5</td>\n      <td>4</td>\n      <td>4.799968e+06</td>\n      <td>0</td>\n      <td>1</td>\n    </tr>\n    <tr>\n      <th>...</th>\n      <td>...</td>\n      <td>...</td>\n      <td>...</td>\n      <td>...</td>\n      <td>...</td>\n      <td>...</td>\n      <td>...</td>\n      <td>...</td>\n      <td>...</td>\n      <td>...</td>\n      <td>...</td>\n      <td>...</td>\n    </tr>\n    <tr>\n      <th>874979</th>\n      <td>a12937</td>\n      <td>b177209</td>\n      <td>2020-09-09 18:57:49</td>\n      <td>2000000000000000000</td>\n      <td>21000.0</td>\n      <td>101.000000</td>\n      <td>2020</td>\n      <td>9</td>\n      <td>9</td>\n      <td>2.121000e+06</td>\n      <td>0</td>\n      <td>19</td>\n    </tr>\n    <tr>\n      <th>874980</th>\n      <td>a22154</td>\n      <td>b36904</td>\n      <td>2020-09-09 18:57:49</td>\n      <td>0</td>\n      <td>450000.0</td>\n      <td>93.730000</td>\n      <td>2020</td>\n      <td>9</td>\n      <td>9</td>\n      <td>4.217850e+07</td>\n      <td>0</td>\n      <td>1</td>\n    </tr>\n    <tr>\n      <th>874981</th>\n      <td>a27216</td>\n      <td>b156802</td>\n      <td>2020-09-09 19:15:27</td>\n      <td>0</td>\n      <td>350000.0</td>\n      <td>667.000000</td>\n      <td>2020</td>\n      <td>9</td>\n      <td>9</td>\n      <td>2.334500e+08</td>\n      <td>0</td>\n      <td>1</td>\n    </tr>\n    <tr>\n      <th>874982</th>\n      <td>a15828</td>\n      <td>b176682</td>\n      <td>2020-09-09 18:57:54</td>\n      <td>0</td>\n      <td>1256108.0</td>\n      <td>93.730000</td>\n      <td>2020</td>\n      <td>9</td>\n      <td>9</td>\n      <td>1.177350e+08</td>\n      <td>0</td>\n      <td>1</td>\n    </tr>\n    <tr>\n      <th>874983</th>\n      <td>a27216</td>\n      <td>b156802</td>\n      <td>2020-09-09 19:15:27</td>\n      <td>0</td>\n      <td>350000.0</td>\n      <td>190.000000</td>\n      <td>2020</td>\n      <td>9</td>\n      <td>9</td>\n      <td>6.650000e+07</td>\n      <td>0</td>\n      <td>1</td>\n    </tr>\n  </tbody>\n</table>\n<p>874984 rows × 12 columns</p>\n</div>"
     },
     "metadata": {},
     "output_type": "display_data"
    },
    {
     "data": {
      "text/plain": "       from_account to_account transaction_time_utc                value  \\\n420          a05997     b31735  2020-05-04 15:35:10                    0   \n500          a05997     b31735  2020-05-04 15:57:42                    0   \n622          a26604     b31818  2020-05-04 16:29:48  6076665128599282058   \n1236         a15674     b32254  2020-05-04 17:26:13    97718000000000000   \n1448         a13198     b31704  2020-05-04 18:48:44   100000000000000000   \n...             ...        ...                  ...                  ...   \n874727       a21865     b57644  2020-09-09 18:45:12                    0   \n874844       a21865     b57644  2020-09-09 18:49:39                    0   \n874848       a21865     b31501  2020-09-09 18:32:25                    0   \n874908       a21865     b31501  2020-09-09 18:52:58                    0   \n874911       a03030    b177190  2020-09-09 18:35:09   700000000000000000   \n\n             gas   gas_price  transaction_year  transaction_month  \\\n420     210000.0    0.000000              2020                  5   \n500     210000.0    0.000000              2020                  5   \n622      21000.0   20.000000              2020                  5   \n1236     21000.0   30.000000              2020                  5   \n1448    279749.0    8.000000              2020                  5   \n...          ...         ...               ...                ...   \n874727  238968.0   87.000000              2020                  9   \n874844  279727.0  102.000000              2020                  9   \n874848   56197.0   85.714286              2020                  9   \n874908   56221.0   85.714286              2020                  9   \n874911   21000.0   91.000000              2020                  9   \n\n        transaction_day       gas_fee  is_token  value_digit  \n420                   4  0.000000e+00         0            1  \n500                   4  0.000000e+00         0            1  \n622                   4  4.200000e+05         0           19  \n1236                  4  6.300000e+05         0           17  \n1448                  4  2.237992e+06         0           18  \n...                 ...           ...       ...          ...  \n874727                9  2.079022e+07         0            1  \n874844                9  2.853215e+07         0            1  \n874848                9  4.816886e+06         0            1  \n874908                9  4.818943e+06         0            1  \n874911                9  1.911000e+06         0           18  \n\n[4073 rows x 12 columns]",
      "text/html": "<div>\n<style scoped>\n    .dataframe tbody tr th:only-of-type {\n        vertical-align: middle;\n    }\n\n    .dataframe tbody tr th {\n        vertical-align: top;\n    }\n\n    .dataframe thead th {\n        text-align: right;\n    }\n</style>\n<table border=\"1\" class=\"dataframe\">\n  <thead>\n    <tr style=\"text-align: right;\">\n      <th></th>\n      <th>from_account</th>\n      <th>to_account</th>\n      <th>transaction_time_utc</th>\n      <th>value</th>\n      <th>gas</th>\n      <th>gas_price</th>\n      <th>transaction_year</th>\n      <th>transaction_month</th>\n      <th>transaction_day</th>\n      <th>gas_fee</th>\n      <th>is_token</th>\n      <th>value_digit</th>\n    </tr>\n  </thead>\n  <tbody>\n    <tr>\n      <th>420</th>\n      <td>a05997</td>\n      <td>b31735</td>\n      <td>2020-05-04 15:35:10</td>\n      <td>0</td>\n      <td>210000.0</td>\n      <td>0.000000</td>\n      <td>2020</td>\n      <td>5</td>\n      <td>4</td>\n      <td>0.000000e+00</td>\n      <td>0</td>\n      <td>1</td>\n    </tr>\n    <tr>\n      <th>500</th>\n      <td>a05997</td>\n      <td>b31735</td>\n      <td>2020-05-04 15:57:42</td>\n      <td>0</td>\n      <td>210000.0</td>\n      <td>0.000000</td>\n      <td>2020</td>\n      <td>5</td>\n      <td>4</td>\n      <td>0.000000e+00</td>\n      <td>0</td>\n      <td>1</td>\n    </tr>\n    <tr>\n      <th>622</th>\n      <td>a26604</td>\n      <td>b31818</td>\n      <td>2020-05-04 16:29:48</td>\n      <td>6076665128599282058</td>\n      <td>21000.0</td>\n      <td>20.000000</td>\n      <td>2020</td>\n      <td>5</td>\n      <td>4</td>\n      <td>4.200000e+05</td>\n      <td>0</td>\n      <td>19</td>\n    </tr>\n    <tr>\n      <th>1236</th>\n      <td>a15674</td>\n      <td>b32254</td>\n      <td>2020-05-04 17:26:13</td>\n      <td>97718000000000000</td>\n      <td>21000.0</td>\n      <td>30.000000</td>\n      <td>2020</td>\n      <td>5</td>\n      <td>4</td>\n      <td>6.300000e+05</td>\n      <td>0</td>\n      <td>17</td>\n    </tr>\n    <tr>\n      <th>1448</th>\n      <td>a13198</td>\n      <td>b31704</td>\n      <td>2020-05-04 18:48:44</td>\n      <td>100000000000000000</td>\n      <td>279749.0</td>\n      <td>8.000000</td>\n      <td>2020</td>\n      <td>5</td>\n      <td>4</td>\n      <td>2.237992e+06</td>\n      <td>0</td>\n      <td>18</td>\n    </tr>\n    <tr>\n      <th>...</th>\n      <td>...</td>\n      <td>...</td>\n      <td>...</td>\n      <td>...</td>\n      <td>...</td>\n      <td>...</td>\n      <td>...</td>\n      <td>...</td>\n      <td>...</td>\n      <td>...</td>\n      <td>...</td>\n      <td>...</td>\n    </tr>\n    <tr>\n      <th>874727</th>\n      <td>a21865</td>\n      <td>b57644</td>\n      <td>2020-09-09 18:45:12</td>\n      <td>0</td>\n      <td>238968.0</td>\n      <td>87.000000</td>\n      <td>2020</td>\n      <td>9</td>\n      <td>9</td>\n      <td>2.079022e+07</td>\n      <td>0</td>\n      <td>1</td>\n    </tr>\n    <tr>\n      <th>874844</th>\n      <td>a21865</td>\n      <td>b57644</td>\n      <td>2020-09-09 18:49:39</td>\n      <td>0</td>\n      <td>279727.0</td>\n      <td>102.000000</td>\n      <td>2020</td>\n      <td>9</td>\n      <td>9</td>\n      <td>2.853215e+07</td>\n      <td>0</td>\n      <td>1</td>\n    </tr>\n    <tr>\n      <th>874848</th>\n      <td>a21865</td>\n      <td>b31501</td>\n      <td>2020-09-09 18:32:25</td>\n      <td>0</td>\n      <td>56197.0</td>\n      <td>85.714286</td>\n      <td>2020</td>\n      <td>9</td>\n      <td>9</td>\n      <td>4.816886e+06</td>\n      <td>0</td>\n      <td>1</td>\n    </tr>\n    <tr>\n      <th>874908</th>\n      <td>a21865</td>\n      <td>b31501</td>\n      <td>2020-09-09 18:52:58</td>\n      <td>0</td>\n      <td>56221.0</td>\n      <td>85.714286</td>\n      <td>2020</td>\n      <td>9</td>\n      <td>9</td>\n      <td>4.818943e+06</td>\n      <td>0</td>\n      <td>1</td>\n    </tr>\n    <tr>\n      <th>874911</th>\n      <td>a03030</td>\n      <td>b177190</td>\n      <td>2020-09-09 18:35:09</td>\n      <td>700000000000000000</td>\n      <td>21000.0</td>\n      <td>91.000000</td>\n      <td>2020</td>\n      <td>9</td>\n      <td>9</td>\n      <td>1.911000e+06</td>\n      <td>0</td>\n      <td>18</td>\n    </tr>\n  </tbody>\n</table>\n<p>4073 rows × 12 columns</p>\n</div>"
     },
     "metadata": {},
     "output_type": "display_data"
    },
    {
     "data": {
      "text/plain": "       from_account to_account transaction_time_utc                value  \\\n51           b31530     a10789  2020-05-04 15:06:43    10000000000000000   \n157          b31600     a10789  2020-05-04 14:52:36    10000000000000000   \n163          b31604     a04046  2020-05-04 14:06:35  1087000000000000000   \n459          b31754     a26604  2020-05-04 15:51:28  1999727000000000000   \n472          b31762     a22356  2020-05-04 15:54:08   100000000000000000   \n...             ...        ...                  ...                  ...   \n874901      b177186     a03013  2020-09-09 19:10:09                    0   \n874923      b168093     a03013  2020-09-09 18:53:42                    0   \n874934      b171164     a03013  2020-09-09 18:53:52                    0   \n874936      b177200     a03013  2020-09-09 18:36:26                    0   \n874970      b170899     a03013  2020-09-09 19:14:20                    0   \n\n             gas  gas_price  transaction_year  transaction_month  \\\n51       21000.0  12.000000              2020                  5   \n157      21000.0  12.000000              2020                  5   \n163     200000.0  12.000000              2020                  5   \n459      21000.0  13.000000              2020                  5   \n472      21000.0   8.000000              2020                  5   \n...          ...        ...               ...                ...   \n874901   66118.0  84.700000              2020                  9   \n874923   43600.0  87.000000              2020                  9   \n874934   66118.0  87.000000              2020                  9   \n874936   48816.0  84.000001              2020                  9   \n874970   66118.0  84.700000              2020                  9   \n\n        transaction_day       gas_fee  is_token  value_digit  \n51                    4  2.520000e+05         0           17  \n157                   4  2.520000e+05         0           17  \n163                   4  2.400000e+06         0           19  \n459                   4  2.730000e+05         0           19  \n472                   4  1.680000e+05         0           18  \n...                 ...           ...       ...          ...  \n874901                9  5.600195e+06         0            1  \n874923                9  3.793200e+06         0            1  \n874934                9  5.752266e+06         0            1  \n874936                9  4.100544e+06         0            1  \n874970                9  5.600195e+06         0            1  \n\n[15558 rows x 12 columns]",
      "text/html": "<div>\n<style scoped>\n    .dataframe tbody tr th:only-of-type {\n        vertical-align: middle;\n    }\n\n    .dataframe tbody tr th {\n        vertical-align: top;\n    }\n\n    .dataframe thead th {\n        text-align: right;\n    }\n</style>\n<table border=\"1\" class=\"dataframe\">\n  <thead>\n    <tr style=\"text-align: right;\">\n      <th></th>\n      <th>from_account</th>\n      <th>to_account</th>\n      <th>transaction_time_utc</th>\n      <th>value</th>\n      <th>gas</th>\n      <th>gas_price</th>\n      <th>transaction_year</th>\n      <th>transaction_month</th>\n      <th>transaction_day</th>\n      <th>gas_fee</th>\n      <th>is_token</th>\n      <th>value_digit</th>\n    </tr>\n  </thead>\n  <tbody>\n    <tr>\n      <th>51</th>\n      <td>b31530</td>\n      <td>a10789</td>\n      <td>2020-05-04 15:06:43</td>\n      <td>10000000000000000</td>\n      <td>21000.0</td>\n      <td>12.000000</td>\n      <td>2020</td>\n      <td>5</td>\n      <td>4</td>\n      <td>2.520000e+05</td>\n      <td>0</td>\n      <td>17</td>\n    </tr>\n    <tr>\n      <th>157</th>\n      <td>b31600</td>\n      <td>a10789</td>\n      <td>2020-05-04 14:52:36</td>\n      <td>10000000000000000</td>\n      <td>21000.0</td>\n      <td>12.000000</td>\n      <td>2020</td>\n      <td>5</td>\n      <td>4</td>\n      <td>2.520000e+05</td>\n      <td>0</td>\n      <td>17</td>\n    </tr>\n    <tr>\n      <th>163</th>\n      <td>b31604</td>\n      <td>a04046</td>\n      <td>2020-05-04 14:06:35</td>\n      <td>1087000000000000000</td>\n      <td>200000.0</td>\n      <td>12.000000</td>\n      <td>2020</td>\n      <td>5</td>\n      <td>4</td>\n      <td>2.400000e+06</td>\n      <td>0</td>\n      <td>19</td>\n    </tr>\n    <tr>\n      <th>459</th>\n      <td>b31754</td>\n      <td>a26604</td>\n      <td>2020-05-04 15:51:28</td>\n      <td>1999727000000000000</td>\n      <td>21000.0</td>\n      <td>13.000000</td>\n      <td>2020</td>\n      <td>5</td>\n      <td>4</td>\n      <td>2.730000e+05</td>\n      <td>0</td>\n      <td>19</td>\n    </tr>\n    <tr>\n      <th>472</th>\n      <td>b31762</td>\n      <td>a22356</td>\n      <td>2020-05-04 15:54:08</td>\n      <td>100000000000000000</td>\n      <td>21000.0</td>\n      <td>8.000000</td>\n      <td>2020</td>\n      <td>5</td>\n      <td>4</td>\n      <td>1.680000e+05</td>\n      <td>0</td>\n      <td>18</td>\n    </tr>\n    <tr>\n      <th>...</th>\n      <td>...</td>\n      <td>...</td>\n      <td>...</td>\n      <td>...</td>\n      <td>...</td>\n      <td>...</td>\n      <td>...</td>\n      <td>...</td>\n      <td>...</td>\n      <td>...</td>\n      <td>...</td>\n      <td>...</td>\n    </tr>\n    <tr>\n      <th>874901</th>\n      <td>b177186</td>\n      <td>a03013</td>\n      <td>2020-09-09 19:10:09</td>\n      <td>0</td>\n      <td>66118.0</td>\n      <td>84.700000</td>\n      <td>2020</td>\n      <td>9</td>\n      <td>9</td>\n      <td>5.600195e+06</td>\n      <td>0</td>\n      <td>1</td>\n    </tr>\n    <tr>\n      <th>874923</th>\n      <td>b168093</td>\n      <td>a03013</td>\n      <td>2020-09-09 18:53:42</td>\n      <td>0</td>\n      <td>43600.0</td>\n      <td>87.000000</td>\n      <td>2020</td>\n      <td>9</td>\n      <td>9</td>\n      <td>3.793200e+06</td>\n      <td>0</td>\n      <td>1</td>\n    </tr>\n    <tr>\n      <th>874934</th>\n      <td>b171164</td>\n      <td>a03013</td>\n      <td>2020-09-09 18:53:52</td>\n      <td>0</td>\n      <td>66118.0</td>\n      <td>87.000000</td>\n      <td>2020</td>\n      <td>9</td>\n      <td>9</td>\n      <td>5.752266e+06</td>\n      <td>0</td>\n      <td>1</td>\n    </tr>\n    <tr>\n      <th>874936</th>\n      <td>b177200</td>\n      <td>a03013</td>\n      <td>2020-09-09 18:36:26</td>\n      <td>0</td>\n      <td>48816.0</td>\n      <td>84.000001</td>\n      <td>2020</td>\n      <td>9</td>\n      <td>9</td>\n      <td>4.100544e+06</td>\n      <td>0</td>\n      <td>1</td>\n    </tr>\n    <tr>\n      <th>874970</th>\n      <td>b170899</td>\n      <td>a03013</td>\n      <td>2020-09-09 19:14:20</td>\n      <td>0</td>\n      <td>66118.0</td>\n      <td>84.700000</td>\n      <td>2020</td>\n      <td>9</td>\n      <td>9</td>\n      <td>5.600195e+06</td>\n      <td>0</td>\n      <td>1</td>\n    </tr>\n  </tbody>\n</table>\n<p>15558 rows × 12 columns</p>\n</div>"
     },
     "metadata": {},
     "output_type": "display_data"
    }
   ],
   "source": [
    "display(df_transactions)\n",
    "display(df_transactions[df_transactions.from_account.isin(fraud_list)])\n",
    "display(df_transactions[df_transactions.to_account.isin(fraud_list)])"
   ],
   "metadata": {
    "collapsed": false
   }
  },
  {
   "cell_type": "code",
   "execution_count": 14,
   "outputs": [
    {
     "name": "stdout",
     "output_type": "stream",
     "text": [
      "0                      611267\n",
      "5000000000000000        10939\n",
      "1000000000000000000      7580\n",
      "7000000000000000         7036\n",
      "20000000000000000        4896\n",
      "                        ...  \n",
      "50188708000000000           1\n",
      "1360140000000000            1\n",
      "5057325114380703902         1\n",
      "43757930000000000           1\n",
      "37852270545577000           1\n",
      "Name: value, Length: 142607, dtype: int64\n"
     ]
    }
   ],
   "source": [
    "print(df_transactions.value.value_counts())"
   ],
   "metadata": {
    "collapsed": false
   }
  },
  {
   "cell_type": "code",
   "execution_count": 15,
   "outputs": [
    {
     "name": "stdout",
     "output_type": "stream",
     "text": [
      "b57644     507\n",
      "b31501     237\n",
      "b163413    211\n",
      "b35651     205\n",
      "b33252      94\n",
      "          ... \n",
      "b90016       1\n",
      "b89839       1\n",
      "b89313       1\n",
      "b89227       1\n",
      "b177190      1\n",
      "Name: to_account, Length: 1493, dtype: int64\n"
     ]
    }
   ],
   "source": [
    "print(df_transactions[df_transactions.from_account.isin(fraud_list)].to_account.value_counts())"
   ],
   "metadata": {
    "collapsed": false
   }
  },
  {
   "cell_type": "code",
   "execution_count": 16,
   "outputs": [
    {
     "name": "stdout",
     "output_type": "stream",
     "text": [
      "0                       1893\n",
      "50000000000000000000     215\n",
      "1000000000000000000       62\n",
      "100000000000000000        57\n",
      "40000000000000000000      25\n",
      "                        ... \n",
      "689761740000000000         1\n",
      "89533530307100009          1\n",
      "18611501525781110          1\n",
      "1500308499923434000        1\n",
      "36000000000000000000       1\n",
      "Name: value, Length: 1399, dtype: int64\n"
     ]
    }
   ],
   "source": [
    "print(df_transactions[df_transactions.from_account.isin(fraud_list)].value.value_counts())"
   ],
   "metadata": {
    "collapsed": false
   }
  },
  {
   "cell_type": "code",
   "execution_count": 17,
   "outputs": [
    {
     "name": "stdout",
     "output_type": "stream",
     "text": [
      "21000.0     1830\n",
      "60000.0      121\n",
      "77137.0      113\n",
      "77028.0       56\n",
      "76746.0       53\n",
      "            ... \n",
      "167433.0       1\n",
      "56000.0        1\n",
      "45000.0        1\n",
      "152561.0       1\n",
      "279727.0       1\n",
      "Name: gas, Length: 920, dtype: int64\n"
     ]
    }
   ],
   "source": [
    "print(df_transactions[df_transactions.from_account.isin(fraud_list)].gas.value_counts())\n"
   ],
   "metadata": {
    "collapsed": false
   }
  },
  {
   "cell_type": "code",
   "execution_count": 18,
   "outputs": [
    {
     "name": "stdout",
     "output_type": "stream",
     "text": [
      "100.000000    85\n",
      "480.000000    56\n",
      "20.000000     52\n",
      "120.000000    48\n",
      "35.000000     45\n",
      "              ..\n",
      "109.000001     1\n",
      "71.250000      1\n",
      "83.124343      1\n",
      "129.780000     1\n",
      "26.600000      1\n",
      "Name: gas_price, Length: 1066, dtype: int64\n"
     ]
    }
   ],
   "source": [
    "print(df_transactions[df_transactions.from_account.isin(fraud_list)].gas_price.value_counts())"
   ],
   "metadata": {
    "collapsed": false
   }
  },
  {
   "cell_type": "code",
   "execution_count": 19,
   "outputs": [
    {
     "data": {
      "text/plain": "      account  flag\n0      a17249     0\n1      a03683     1\n2      a22146     0\n3      a26056     1\n4      a13971     0\n...       ...   ...\n25193  a24443     0\n25194  a12337     0\n25195  a08122     0\n25196  a27826     1\n25197  a09863     1\n\n[25198 rows x 2 columns]",
      "text/html": "<div>\n<style scoped>\n    .dataframe tbody tr th:only-of-type {\n        vertical-align: middle;\n    }\n\n    .dataframe tbody tr th {\n        vertical-align: top;\n    }\n\n    .dataframe thead th {\n        text-align: right;\n    }\n</style>\n<table border=\"1\" class=\"dataframe\">\n  <thead>\n    <tr style=\"text-align: right;\">\n      <th></th>\n      <th>account</th>\n      <th>flag</th>\n    </tr>\n  </thead>\n  <tbody>\n    <tr>\n      <th>0</th>\n      <td>a17249</td>\n      <td>0</td>\n    </tr>\n    <tr>\n      <th>1</th>\n      <td>a03683</td>\n      <td>1</td>\n    </tr>\n    <tr>\n      <th>2</th>\n      <td>a22146</td>\n      <td>0</td>\n    </tr>\n    <tr>\n      <th>3</th>\n      <td>a26056</td>\n      <td>1</td>\n    </tr>\n    <tr>\n      <th>4</th>\n      <td>a13971</td>\n      <td>0</td>\n    </tr>\n    <tr>\n      <th>...</th>\n      <td>...</td>\n      <td>...</td>\n    </tr>\n    <tr>\n      <th>25193</th>\n      <td>a24443</td>\n      <td>0</td>\n    </tr>\n    <tr>\n      <th>25194</th>\n      <td>a12337</td>\n      <td>0</td>\n    </tr>\n    <tr>\n      <th>25195</th>\n      <td>a08122</td>\n      <td>0</td>\n    </tr>\n    <tr>\n      <th>25196</th>\n      <td>a27826</td>\n      <td>1</td>\n    </tr>\n    <tr>\n      <th>25197</th>\n      <td>a09863</td>\n      <td>1</td>\n    </tr>\n  </tbody>\n</table>\n<p>25198 rows × 2 columns</p>\n</div>"
     },
     "execution_count": 19,
     "metadata": {},
     "output_type": "execute_result"
    }
   ],
   "source": [
    "df_train"
   ],
   "metadata": {
    "collapsed": false
   }
  },
  {
   "cell_type": "code",
   "execution_count": 19,
   "outputs": [],
   "source": [],
   "metadata": {
    "collapsed": false
   }
  },
  {
   "cell_type": "code",
   "execution_count": 19,
   "outputs": [],
   "source": [],
   "metadata": {
    "collapsed": false
   }
  }
 ],
 "metadata": {
  "kernelspec": {
   "display_name": "Python 3",
   "language": "python",
   "name": "python3"
  },
  "language_info": {
   "codemirror_mode": {
    "name": "ipython",
    "version": 2
   },
   "file_extension": ".py",
   "mimetype": "text/x-python",
   "name": "python",
   "nbconvert_exporter": "python",
   "pygments_lexer": "ipython2",
   "version": "2.7.6"
  }
 },
 "nbformat": 4,
 "nbformat_minor": 0
}
