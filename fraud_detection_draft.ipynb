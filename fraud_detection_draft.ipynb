{
 "cells": [
  {
   "cell_type": "markdown",
   "source": [
    "# Ethereum Fraud Detection"
   ],
   "metadata": {
    "collapsed": false
   }
  },
  {
   "cell_type": "markdown",
   "source": [
    "## Import Packages and Read Data"
   ],
   "metadata": {
    "collapsed": false
   }
  },
  {
   "cell_type": "code",
   "execution_count": 17,
   "outputs": [],
   "source": [
    "import pandas as pd\n",
    "import numpy as np"
   ],
   "metadata": {
    "collapsed": false
   }
  },
  {
   "cell_type": "code",
   "execution_count": 18,
   "outputs": [],
   "source": [
    "df_train = pd.read_csv('data/train_accounts.csv')\n",
    "df_test = pd.read_csv('data/test_accounts.csv')\n",
    "df_transactions = pd.read_csv('data/transactions.csv')"
   ],
   "metadata": {
    "collapsed": false
   }
  },
  {
   "cell_type": "code",
   "execution_count": 19,
   "outputs": [
    {
     "name": "stdout",
     "output_type": "stream",
     "text": [
      "Training records: 25198 Testing records 6300\n",
      "Total records: 31498 31498\n",
      "Fraud records: 2455\n"
     ]
    }
   ],
   "source": [
    "train_list = df_train.account.to_list()\n",
    "test_list = df_test.account.to_list()\n",
    "whole_list = train_list + test_list\n",
    "\n",
    "print('Training records:', len(train_list), 'Testing records', len(test_list))\n",
    "print('Total records:', len(whole_list), len(set(whole_list)))\n",
    "\n",
    "fraud_list = df_train[df_train.flag == 1].account.to_list()\n",
    "print('Fraud records:', len(fraud_list))"
   ],
   "metadata": {
    "collapsed": false
   }
  },
  {
   "cell_type": "code",
   "execution_count": 20,
   "outputs": [
    {
     "name": "stdout",
     "output_type": "stream",
     "text": [
      "0    22743\n",
      "1     2455\n",
      "Name: flag, dtype: int64\n"
     ]
    }
   ],
   "source": [
    "# Flag Distribution\n",
    "print(df_train.flag.value_counts())"
   ],
   "metadata": {
    "collapsed": false
   }
  },
  {
   "cell_type": "code",
   "execution_count": 21,
   "outputs": [
    {
     "name": "stdout",
     "output_type": "stream",
     "text": [
      "from_account            0\n",
      "to_account              0\n",
      "transaction_time_utc    0\n",
      "value                   0\n",
      "gas                     0\n",
      "gas_price               0\n",
      "dtype: int64\n",
      "False\n",
      "False\n"
     ]
    },
    {
     "data": {
      "text/plain": "Empty DataFrame\nColumns: [from_account, to_account, transaction_time_utc, value, gas, gas_price]\nIndex: []",
      "text/html": "<div>\n<style scoped>\n    .dataframe tbody tr th:only-of-type {\n        vertical-align: middle;\n    }\n\n    .dataframe tbody tr th {\n        vertical-align: top;\n    }\n\n    .dataframe thead th {\n        text-align: right;\n    }\n</style>\n<table border=\"1\" class=\"dataframe\">\n  <thead>\n    <tr style=\"text-align: right;\">\n      <th></th>\n      <th>from_account</th>\n      <th>to_account</th>\n      <th>transaction_time_utc</th>\n      <th>value</th>\n      <th>gas</th>\n      <th>gas_price</th>\n    </tr>\n  </thead>\n  <tbody>\n  </tbody>\n</table>\n</div>"
     },
     "metadata": {},
     "output_type": "display_data"
    }
   ],
   "source": [
    "print(df_transactions.isnull().sum())\n",
    "\n",
    "print('b316' in train_list)\n",
    "print('b316' in test_list)\n",
    "\n",
    "display(df_transactions[df_transactions.to_account.isnull()])\n",
    "df_transactions = df_transactions.dropna()"
   ],
   "metadata": {
    "collapsed": false
   }
  },
  {
   "cell_type": "markdown",
   "source": [
    "## Exploratory Data Analysis & Preprocessing"
   ],
   "metadata": {
    "collapsed": false
   }
  },
  {
   "cell_type": "code",
   "execution_count": 22,
   "outputs": [
    {
     "name": "stdout",
     "output_type": "stream",
     "text": [
      "(5826604, 6)\n",
      "604847 419535\n"
     ]
    }
   ],
   "source": [
    "print(df_transactions.shape)\n",
    "print(df_transactions.from_account.nunique(), df_transactions.to_account.nunique())"
   ],
   "metadata": {
    "collapsed": false
   }
  },
  {
   "cell_type": "code",
   "execution_count": 23,
   "outputs": [],
   "source": [
    "df_transactions.transaction_time_utc = pd.to_datetime(df_transactions.transaction_time_utc)\n",
    "df_transactions['transaction_year'] = df_transactions.transaction_time_utc.dt.year\n",
    "df_transactions['transaction_month'] = df_transactions.transaction_time_utc.dt.month\n",
    "df_transactions['transaction_day'] = df_transactions.transaction_time_utc.dt.day"
   ],
   "metadata": {
    "collapsed": false
   }
  },
  {
   "cell_type": "code",
   "execution_count": 24,
   "outputs": [
    {
     "data": {
      "text/plain": "count    5.826604e+06\nmean     1.526253e+07\nstd      9.673410e+07\nmin      0.000000e+00\n25%      4.590000e+05\n50%      1.890000e+06\n75%      9.000000e+06\nmax      6.923966e+10\nName: gas_fee, dtype: float64"
     },
     "execution_count": 24,
     "metadata": {},
     "output_type": "execute_result"
    }
   ],
   "source": [
    "df_transactions['gas_price'] = df_transactions['gas_price'].div(1000000000)\n",
    "df_transactions['gas_fee'] = df_transactions['gas'].mul(df_transactions['gas_price'])\n",
    "df_transactions['gas_fee'].describe()"
   ],
   "metadata": {
    "collapsed": false
   }
  },
  {
   "cell_type": "code",
   "execution_count": 25,
   "outputs": [],
   "source": [
    "df_transactions['is_token'] = np.where(df_transactions['value']==0, 1, 0)\n",
    "df_transactions['value_digit'] = df_transactions.value.apply(lambda x: len(x))"
   ],
   "metadata": {
    "collapsed": false
   }
  },
  {
   "cell_type": "code",
   "execution_count": 26,
   "outputs": [
    {
     "data": {
      "text/plain": "        from_account to_account transaction_time_utc               value  \\\n0             a00996     b31499  2020-05-04 14:54:03                   0   \n1             a07890     b31500  2020-05-04 14:55:06                   0   \n2             a22857     b31501  2020-05-04 14:55:23                   0   \n3             a07890     b31502  2020-05-04 14:55:23  108900000000000000   \n4             a21390     b31501  2020-05-04 14:56:05                   0   \n...              ...        ...                  ...                 ...   \n5826599       b37259     a16395  2020-05-04 13:20:57    2000000000000000   \n5826600       a18542     b31501  2020-05-04 13:21:32                   0   \n5826601       a20151    b966524  2020-05-04 13:21:32   13000000000000000   \n5826602       a25907     b31505  2020-05-04 13:22:10                   0   \n5826603       a20151     b31501  2020-05-04 13:22:10                   0   \n\n             gas  gas_price  transaction_year  transaction_month  \\\n0          72585  11.500000              2020                  5   \n1          54426  11.349723              2020                  5   \n2         200000  14.024585              2020                  5   \n3          21000  11.349723              2020                  5   \n4         149999  32.000000              2020                  5   \n...          ...        ...               ...                ...   \n5826599    21000   8.000000              2020                  5   \n5826600    60000  10.800001              2020                  5   \n5826601    21000  10.800001              2020                  5   \n5826602  1500000  12.000000              2020                  5   \n5826603    60000   8.470000              2020                  5   \n\n         transaction_day       gas_fee  is_token  value_digit  \n0                      4  8.347275e+05         0            1  \n1                      4  6.177200e+05         0            1  \n2                      4  2.804917e+06         0            1  \n3                      4  2.383442e+05         0           18  \n4                      4  4.799968e+06         0            1  \n...                  ...           ...       ...          ...  \n5826599                4  1.680000e+05         0           16  \n5826600                4  6.480001e+05         0            1  \n5826601                4  2.268000e+05         0           17  \n5826602                4  1.800000e+07         0            1  \n5826603                4  5.082000e+05         0            1  \n\n[5826604 rows x 12 columns]",
      "text/html": "<div>\n<style scoped>\n    .dataframe tbody tr th:only-of-type {\n        vertical-align: middle;\n    }\n\n    .dataframe tbody tr th {\n        vertical-align: top;\n    }\n\n    .dataframe thead th {\n        text-align: right;\n    }\n</style>\n<table border=\"1\" class=\"dataframe\">\n  <thead>\n    <tr style=\"text-align: right;\">\n      <th></th>\n      <th>from_account</th>\n      <th>to_account</th>\n      <th>transaction_time_utc</th>\n      <th>value</th>\n      <th>gas</th>\n      <th>gas_price</th>\n      <th>transaction_year</th>\n      <th>transaction_month</th>\n      <th>transaction_day</th>\n      <th>gas_fee</th>\n      <th>is_token</th>\n      <th>value_digit</th>\n    </tr>\n  </thead>\n  <tbody>\n    <tr>\n      <th>0</th>\n      <td>a00996</td>\n      <td>b31499</td>\n      <td>2020-05-04 14:54:03</td>\n      <td>0</td>\n      <td>72585</td>\n      <td>11.500000</td>\n      <td>2020</td>\n      <td>5</td>\n      <td>4</td>\n      <td>8.347275e+05</td>\n      <td>0</td>\n      <td>1</td>\n    </tr>\n    <tr>\n      <th>1</th>\n      <td>a07890</td>\n      <td>b31500</td>\n      <td>2020-05-04 14:55:06</td>\n      <td>0</td>\n      <td>54426</td>\n      <td>11.349723</td>\n      <td>2020</td>\n      <td>5</td>\n      <td>4</td>\n      <td>6.177200e+05</td>\n      <td>0</td>\n      <td>1</td>\n    </tr>\n    <tr>\n      <th>2</th>\n      <td>a22857</td>\n      <td>b31501</td>\n      <td>2020-05-04 14:55:23</td>\n      <td>0</td>\n      <td>200000</td>\n      <td>14.024585</td>\n      <td>2020</td>\n      <td>5</td>\n      <td>4</td>\n      <td>2.804917e+06</td>\n      <td>0</td>\n      <td>1</td>\n    </tr>\n    <tr>\n      <th>3</th>\n      <td>a07890</td>\n      <td>b31502</td>\n      <td>2020-05-04 14:55:23</td>\n      <td>108900000000000000</td>\n      <td>21000</td>\n      <td>11.349723</td>\n      <td>2020</td>\n      <td>5</td>\n      <td>4</td>\n      <td>2.383442e+05</td>\n      <td>0</td>\n      <td>18</td>\n    </tr>\n    <tr>\n      <th>4</th>\n      <td>a21390</td>\n      <td>b31501</td>\n      <td>2020-05-04 14:56:05</td>\n      <td>0</td>\n      <td>149999</td>\n      <td>32.000000</td>\n      <td>2020</td>\n      <td>5</td>\n      <td>4</td>\n      <td>4.799968e+06</td>\n      <td>0</td>\n      <td>1</td>\n    </tr>\n    <tr>\n      <th>...</th>\n      <td>...</td>\n      <td>...</td>\n      <td>...</td>\n      <td>...</td>\n      <td>...</td>\n      <td>...</td>\n      <td>...</td>\n      <td>...</td>\n      <td>...</td>\n      <td>...</td>\n      <td>...</td>\n      <td>...</td>\n    </tr>\n    <tr>\n      <th>5826599</th>\n      <td>b37259</td>\n      <td>a16395</td>\n      <td>2020-05-04 13:20:57</td>\n      <td>2000000000000000</td>\n      <td>21000</td>\n      <td>8.000000</td>\n      <td>2020</td>\n      <td>5</td>\n      <td>4</td>\n      <td>1.680000e+05</td>\n      <td>0</td>\n      <td>16</td>\n    </tr>\n    <tr>\n      <th>5826600</th>\n      <td>a18542</td>\n      <td>b31501</td>\n      <td>2020-05-04 13:21:32</td>\n      <td>0</td>\n      <td>60000</td>\n      <td>10.800001</td>\n      <td>2020</td>\n      <td>5</td>\n      <td>4</td>\n      <td>6.480001e+05</td>\n      <td>0</td>\n      <td>1</td>\n    </tr>\n    <tr>\n      <th>5826601</th>\n      <td>a20151</td>\n      <td>b966524</td>\n      <td>2020-05-04 13:21:32</td>\n      <td>13000000000000000</td>\n      <td>21000</td>\n      <td>10.800001</td>\n      <td>2020</td>\n      <td>5</td>\n      <td>4</td>\n      <td>2.268000e+05</td>\n      <td>0</td>\n      <td>17</td>\n    </tr>\n    <tr>\n      <th>5826602</th>\n      <td>a25907</td>\n      <td>b31505</td>\n      <td>2020-05-04 13:22:10</td>\n      <td>0</td>\n      <td>1500000</td>\n      <td>12.000000</td>\n      <td>2020</td>\n      <td>5</td>\n      <td>4</td>\n      <td>1.800000e+07</td>\n      <td>0</td>\n      <td>1</td>\n    </tr>\n    <tr>\n      <th>5826603</th>\n      <td>a20151</td>\n      <td>b31501</td>\n      <td>2020-05-04 13:22:10</td>\n      <td>0</td>\n      <td>60000</td>\n      <td>8.470000</td>\n      <td>2020</td>\n      <td>5</td>\n      <td>4</td>\n      <td>5.082000e+05</td>\n      <td>0</td>\n      <td>1</td>\n    </tr>\n  </tbody>\n</table>\n<p>5826604 rows × 12 columns</p>\n</div>"
     },
     "metadata": {},
     "output_type": "display_data"
    },
    {
     "data": {
      "text/plain": "        from_account to_account transaction_time_utc                 value  \\\n420           a05997     b31735  2020-05-04 15:35:10                     0   \n500           a05997     b31735  2020-05-04 15:57:42                     0   \n622           a26604     b31818  2020-05-04 16:29:48   6076665128599282058   \n1236          a15674     b32254  2020-05-04 17:26:13     97718000000000000   \n1448          a13198     b31704  2020-05-04 18:48:44    100000000000000000   \n...              ...        ...                  ...                   ...   \n5825441       a10789     a06893  2020-05-04 07:46:15     10000000000000000   \n5825679       a24708    b966219  2020-05-04 08:54:34   2389126830000000000   \n5825693       a04245    b966219  2020-05-04 08:58:13  20623693655805113552   \n5826254       a04164     b31710  2020-05-04 12:02:38                     0   \n5826500       a05997     b31735  2020-05-04 12:55:21                     0   \n\n            gas  gas_price  transaction_year  transaction_month  \\\n420      210000       0.00              2020                  5   \n500      210000       0.00              2020                  5   \n622       21000      20.00              2020                  5   \n1236      21000      30.00              2020                  5   \n1448     279749       8.00              2020                  5   \n...         ...        ...               ...                ...   \n5825441   21000       7.00              2020                  5   \n5825679   21000      10.89              2020                  5   \n5825693   21000       9.90              2020                  5   \n5826254  120000      12.00              2020                  5   \n5826500  210000       0.00              2020                  5   \n\n         transaction_day       gas_fee  is_token  value_digit  \n420                    4  0.000000e+00         0            1  \n500                    4  0.000000e+00         0            1  \n622                    4  4.200000e+05         0           19  \n1236                   4  6.300000e+05         0           17  \n1448                   4  2.237992e+06         0           18  \n...                  ...           ...       ...          ...  \n5825441                4  1.470000e+05         0           17  \n5825679                4  2.286900e+05         0           19  \n5825693                4  2.079000e+05         0           20  \n5826254                4  1.440000e+06         0            1  \n5826500                4  0.000000e+00         0            1  \n\n[69339 rows x 12 columns]",
      "text/html": "<div>\n<style scoped>\n    .dataframe tbody tr th:only-of-type {\n        vertical-align: middle;\n    }\n\n    .dataframe tbody tr th {\n        vertical-align: top;\n    }\n\n    .dataframe thead th {\n        text-align: right;\n    }\n</style>\n<table border=\"1\" class=\"dataframe\">\n  <thead>\n    <tr style=\"text-align: right;\">\n      <th></th>\n      <th>from_account</th>\n      <th>to_account</th>\n      <th>transaction_time_utc</th>\n      <th>value</th>\n      <th>gas</th>\n      <th>gas_price</th>\n      <th>transaction_year</th>\n      <th>transaction_month</th>\n      <th>transaction_day</th>\n      <th>gas_fee</th>\n      <th>is_token</th>\n      <th>value_digit</th>\n    </tr>\n  </thead>\n  <tbody>\n    <tr>\n      <th>420</th>\n      <td>a05997</td>\n      <td>b31735</td>\n      <td>2020-05-04 15:35:10</td>\n      <td>0</td>\n      <td>210000</td>\n      <td>0.00</td>\n      <td>2020</td>\n      <td>5</td>\n      <td>4</td>\n      <td>0.000000e+00</td>\n      <td>0</td>\n      <td>1</td>\n    </tr>\n    <tr>\n      <th>500</th>\n      <td>a05997</td>\n      <td>b31735</td>\n      <td>2020-05-04 15:57:42</td>\n      <td>0</td>\n      <td>210000</td>\n      <td>0.00</td>\n      <td>2020</td>\n      <td>5</td>\n      <td>4</td>\n      <td>0.000000e+00</td>\n      <td>0</td>\n      <td>1</td>\n    </tr>\n    <tr>\n      <th>622</th>\n      <td>a26604</td>\n      <td>b31818</td>\n      <td>2020-05-04 16:29:48</td>\n      <td>6076665128599282058</td>\n      <td>21000</td>\n      <td>20.00</td>\n      <td>2020</td>\n      <td>5</td>\n      <td>4</td>\n      <td>4.200000e+05</td>\n      <td>0</td>\n      <td>19</td>\n    </tr>\n    <tr>\n      <th>1236</th>\n      <td>a15674</td>\n      <td>b32254</td>\n      <td>2020-05-04 17:26:13</td>\n      <td>97718000000000000</td>\n      <td>21000</td>\n      <td>30.00</td>\n      <td>2020</td>\n      <td>5</td>\n      <td>4</td>\n      <td>6.300000e+05</td>\n      <td>0</td>\n      <td>17</td>\n    </tr>\n    <tr>\n      <th>1448</th>\n      <td>a13198</td>\n      <td>b31704</td>\n      <td>2020-05-04 18:48:44</td>\n      <td>100000000000000000</td>\n      <td>279749</td>\n      <td>8.00</td>\n      <td>2020</td>\n      <td>5</td>\n      <td>4</td>\n      <td>2.237992e+06</td>\n      <td>0</td>\n      <td>18</td>\n    </tr>\n    <tr>\n      <th>...</th>\n      <td>...</td>\n      <td>...</td>\n      <td>...</td>\n      <td>...</td>\n      <td>...</td>\n      <td>...</td>\n      <td>...</td>\n      <td>...</td>\n      <td>...</td>\n      <td>...</td>\n      <td>...</td>\n      <td>...</td>\n    </tr>\n    <tr>\n      <th>5825441</th>\n      <td>a10789</td>\n      <td>a06893</td>\n      <td>2020-05-04 07:46:15</td>\n      <td>10000000000000000</td>\n      <td>21000</td>\n      <td>7.00</td>\n      <td>2020</td>\n      <td>5</td>\n      <td>4</td>\n      <td>1.470000e+05</td>\n      <td>0</td>\n      <td>17</td>\n    </tr>\n    <tr>\n      <th>5825679</th>\n      <td>a24708</td>\n      <td>b966219</td>\n      <td>2020-05-04 08:54:34</td>\n      <td>2389126830000000000</td>\n      <td>21000</td>\n      <td>10.89</td>\n      <td>2020</td>\n      <td>5</td>\n      <td>4</td>\n      <td>2.286900e+05</td>\n      <td>0</td>\n      <td>19</td>\n    </tr>\n    <tr>\n      <th>5825693</th>\n      <td>a04245</td>\n      <td>b966219</td>\n      <td>2020-05-04 08:58:13</td>\n      <td>20623693655805113552</td>\n      <td>21000</td>\n      <td>9.90</td>\n      <td>2020</td>\n      <td>5</td>\n      <td>4</td>\n      <td>2.079000e+05</td>\n      <td>0</td>\n      <td>20</td>\n    </tr>\n    <tr>\n      <th>5826254</th>\n      <td>a04164</td>\n      <td>b31710</td>\n      <td>2020-05-04 12:02:38</td>\n      <td>0</td>\n      <td>120000</td>\n      <td>12.00</td>\n      <td>2020</td>\n      <td>5</td>\n      <td>4</td>\n      <td>1.440000e+06</td>\n      <td>0</td>\n      <td>1</td>\n    </tr>\n    <tr>\n      <th>5826500</th>\n      <td>a05997</td>\n      <td>b31735</td>\n      <td>2020-05-04 12:55:21</td>\n      <td>0</td>\n      <td>210000</td>\n      <td>0.00</td>\n      <td>2020</td>\n      <td>5</td>\n      <td>4</td>\n      <td>0.000000e+00</td>\n      <td>0</td>\n      <td>1</td>\n    </tr>\n  </tbody>\n</table>\n<p>69339 rows × 12 columns</p>\n</div>"
     },
     "metadata": {},
     "output_type": "display_data"
    },
    {
     "data": {
      "text/plain": "        from_account to_account transaction_time_utc                value  \\\n51            b31530     a10789  2020-05-04 15:06:43    10000000000000000   \n157           b31600     a10789  2020-05-04 14:52:36    10000000000000000   \n163           b31604     a04046  2020-05-04 14:06:35  1087000000000000000   \n459           b31754     a26604  2020-05-04 15:51:28  1999727000000000000   \n472           b31762     a22356  2020-05-04 15:54:08   100000000000000000   \n...              ...        ...                  ...                  ...   \n5826144      b966474     a14838  2020-05-04 11:21:06   999893950000000000   \n5826256       b31709     a04164  2020-05-04 12:02:54     1500000000000000   \n5826290      b921188     a10789  2020-05-04 12:12:59    10000000000000000   \n5826512      b966512     a14838  2020-05-04 12:57:37  1989853000000000000   \n5826567      b966517     a14838  2020-05-04 13:12:43  1989840128650033000   \n\n            gas  gas_price  transaction_year  transaction_month  \\\n51        21000  12.000000              2020                  5   \n157       21000  12.000000              2020                  5   \n163      200000  12.000000              2020                  5   \n459       21000  13.000000              2020                  5   \n472       21000   8.000000              2020                  5   \n...         ...        ...               ...                ...   \n5826144   21000   5.050000              2020                  5   \n5826256  120000  12.000000              2020                  5   \n5826290   21000   8.000000              2020                  5   \n5826512   21000   7.000000              2020                  5   \n5826567   21000   7.612921              2020                  5   \n\n         transaction_day       gas_fee  is_token  value_digit  \n51                     4  2.520000e+05         0           17  \n157                    4  2.520000e+05         0           17  \n163                    4  2.400000e+06         0           19  \n459                    4  2.730000e+05         0           19  \n472                    4  1.680000e+05         0           18  \n...                  ...           ...       ...          ...  \n5826144                4  1.060500e+05         0           18  \n5826256                4  1.440000e+06         0           16  \n5826290                4  1.680000e+05         0           17  \n5826512                4  1.470000e+05         0           19  \n5826567                4  1.598713e+05         0           19  \n\n[125748 rows x 12 columns]",
      "text/html": "<div>\n<style scoped>\n    .dataframe tbody tr th:only-of-type {\n        vertical-align: middle;\n    }\n\n    .dataframe tbody tr th {\n        vertical-align: top;\n    }\n\n    .dataframe thead th {\n        text-align: right;\n    }\n</style>\n<table border=\"1\" class=\"dataframe\">\n  <thead>\n    <tr style=\"text-align: right;\">\n      <th></th>\n      <th>from_account</th>\n      <th>to_account</th>\n      <th>transaction_time_utc</th>\n      <th>value</th>\n      <th>gas</th>\n      <th>gas_price</th>\n      <th>transaction_year</th>\n      <th>transaction_month</th>\n      <th>transaction_day</th>\n      <th>gas_fee</th>\n      <th>is_token</th>\n      <th>value_digit</th>\n    </tr>\n  </thead>\n  <tbody>\n    <tr>\n      <th>51</th>\n      <td>b31530</td>\n      <td>a10789</td>\n      <td>2020-05-04 15:06:43</td>\n      <td>10000000000000000</td>\n      <td>21000</td>\n      <td>12.000000</td>\n      <td>2020</td>\n      <td>5</td>\n      <td>4</td>\n      <td>2.520000e+05</td>\n      <td>0</td>\n      <td>17</td>\n    </tr>\n    <tr>\n      <th>157</th>\n      <td>b31600</td>\n      <td>a10789</td>\n      <td>2020-05-04 14:52:36</td>\n      <td>10000000000000000</td>\n      <td>21000</td>\n      <td>12.000000</td>\n      <td>2020</td>\n      <td>5</td>\n      <td>4</td>\n      <td>2.520000e+05</td>\n      <td>0</td>\n      <td>17</td>\n    </tr>\n    <tr>\n      <th>163</th>\n      <td>b31604</td>\n      <td>a04046</td>\n      <td>2020-05-04 14:06:35</td>\n      <td>1087000000000000000</td>\n      <td>200000</td>\n      <td>12.000000</td>\n      <td>2020</td>\n      <td>5</td>\n      <td>4</td>\n      <td>2.400000e+06</td>\n      <td>0</td>\n      <td>19</td>\n    </tr>\n    <tr>\n      <th>459</th>\n      <td>b31754</td>\n      <td>a26604</td>\n      <td>2020-05-04 15:51:28</td>\n      <td>1999727000000000000</td>\n      <td>21000</td>\n      <td>13.000000</td>\n      <td>2020</td>\n      <td>5</td>\n      <td>4</td>\n      <td>2.730000e+05</td>\n      <td>0</td>\n      <td>19</td>\n    </tr>\n    <tr>\n      <th>472</th>\n      <td>b31762</td>\n      <td>a22356</td>\n      <td>2020-05-04 15:54:08</td>\n      <td>100000000000000000</td>\n      <td>21000</td>\n      <td>8.000000</td>\n      <td>2020</td>\n      <td>5</td>\n      <td>4</td>\n      <td>1.680000e+05</td>\n      <td>0</td>\n      <td>18</td>\n    </tr>\n    <tr>\n      <th>...</th>\n      <td>...</td>\n      <td>...</td>\n      <td>...</td>\n      <td>...</td>\n      <td>...</td>\n      <td>...</td>\n      <td>...</td>\n      <td>...</td>\n      <td>...</td>\n      <td>...</td>\n      <td>...</td>\n      <td>...</td>\n    </tr>\n    <tr>\n      <th>5826144</th>\n      <td>b966474</td>\n      <td>a14838</td>\n      <td>2020-05-04 11:21:06</td>\n      <td>999893950000000000</td>\n      <td>21000</td>\n      <td>5.050000</td>\n      <td>2020</td>\n      <td>5</td>\n      <td>4</td>\n      <td>1.060500e+05</td>\n      <td>0</td>\n      <td>18</td>\n    </tr>\n    <tr>\n      <th>5826256</th>\n      <td>b31709</td>\n      <td>a04164</td>\n      <td>2020-05-04 12:02:54</td>\n      <td>1500000000000000</td>\n      <td>120000</td>\n      <td>12.000000</td>\n      <td>2020</td>\n      <td>5</td>\n      <td>4</td>\n      <td>1.440000e+06</td>\n      <td>0</td>\n      <td>16</td>\n    </tr>\n    <tr>\n      <th>5826290</th>\n      <td>b921188</td>\n      <td>a10789</td>\n      <td>2020-05-04 12:12:59</td>\n      <td>10000000000000000</td>\n      <td>21000</td>\n      <td>8.000000</td>\n      <td>2020</td>\n      <td>5</td>\n      <td>4</td>\n      <td>1.680000e+05</td>\n      <td>0</td>\n      <td>17</td>\n    </tr>\n    <tr>\n      <th>5826512</th>\n      <td>b966512</td>\n      <td>a14838</td>\n      <td>2020-05-04 12:57:37</td>\n      <td>1989853000000000000</td>\n      <td>21000</td>\n      <td>7.000000</td>\n      <td>2020</td>\n      <td>5</td>\n      <td>4</td>\n      <td>1.470000e+05</td>\n      <td>0</td>\n      <td>19</td>\n    </tr>\n    <tr>\n      <th>5826567</th>\n      <td>b966517</td>\n      <td>a14838</td>\n      <td>2020-05-04 13:12:43</td>\n      <td>1989840128650033000</td>\n      <td>21000</td>\n      <td>7.612921</td>\n      <td>2020</td>\n      <td>5</td>\n      <td>4</td>\n      <td>1.598713e+05</td>\n      <td>0</td>\n      <td>19</td>\n    </tr>\n  </tbody>\n</table>\n<p>125748 rows × 12 columns</p>\n</div>"
     },
     "metadata": {},
     "output_type": "display_data"
    }
   ],
   "source": [
    "display(df_transactions)\n",
    "display(df_transactions[df_transactions.from_account.isin(fraud_list)])\n",
    "display(df_transactions[df_transactions.to_account.isin(fraud_list)])"
   ],
   "metadata": {
    "collapsed": false
   }
  },
  {
   "cell_type": "code",
   "execution_count": 27,
   "outputs": [
    {
     "name": "stdout",
     "output_type": "stream",
     "text": [
      "0                      3677450\n",
      "1000000000000000000      36483\n",
      "100000000000000000       27323\n",
      "10000000000000000        22847\n",
      "1000000000000000         22662\n",
      "                        ...   \n",
      "299159748522984033           1\n",
      "99212373461673444            1\n",
      "1131243810000000000          1\n",
      "200662480387428992           1\n",
      "51949804000000000            1\n",
      "Name: value, Length: 1248010, dtype: int64\n"
     ]
    }
   ],
   "source": [
    "print(df_transactions.value.value_counts())"
   ],
   "metadata": {
    "collapsed": false
   }
  },
  {
   "cell_type": "code",
   "execution_count": 28,
   "outputs": [
    {
     "name": "stdout",
     "output_type": "stream",
     "text": [
      "b31735     3437\n",
      "b35358     3330\n",
      "b57644     3292\n",
      "b141502    1460\n",
      "b279004    1455\n",
      "           ... \n",
      "b655785       1\n",
      "b394623       1\n",
      "b655793       1\n",
      "b655950       1\n",
      "a06893        1\n",
      "Name: to_account, Length: 19254, dtype: int64\n"
     ]
    }
   ],
   "source": [
    "print(df_transactions[df_transactions.from_account.isin(fraud_list)].to_account.value_counts())"
   ],
   "metadata": {
    "collapsed": false
   }
  },
  {
   "cell_type": "code",
   "execution_count": 29,
   "outputs": [
    {
     "name": "stdout",
     "output_type": "stream",
     "text": [
      "0                       31209\n",
      "10000000000000000        1670\n",
      "5000000000000000         1098\n",
      "1000000000000000000       617\n",
      "100000000000000000        541\n",
      "                        ...  \n",
      "102834000000000             1\n",
      "75676000000000              1\n",
      "105764000000000             1\n",
      "44836000000000              1\n",
      "20623693655805113552        1\n",
      "Name: value, Length: 19521, dtype: int64\n"
     ]
    }
   ],
   "source": [
    "print(df_transactions[df_transactions.from_account.isin(fraud_list)].value.value_counts())"
   ],
   "metadata": {
    "collapsed": false
   }
  },
  {
   "cell_type": "code",
   "execution_count": 30,
   "outputs": [
    {
     "name": "stdout",
     "output_type": "stream",
     "text": [
      "21000      18313\n",
      "60000      16578\n",
      "210000      6411\n",
      "250000      5652\n",
      "100000       527\n",
      "           ...  \n",
      "152541         1\n",
      "52467          1\n",
      "53931          1\n",
      "145379         1\n",
      "3905623        1\n",
      "Name: gas, Length: 6386, dtype: int64\n"
     ]
    }
   ],
   "source": [
    "print(df_transactions[df_transactions.from_account.isin(fraud_list)].gas.value_counts())\n"
   ],
   "metadata": {
    "collapsed": false
   }
  },
  {
   "cell_type": "code",
   "execution_count": 31,
   "outputs": [
    {
     "name": "stdout",
     "output_type": "stream",
     "text": [
      "0.000000      6393\n",
      "4.000000      3028\n",
      "21.000000     2808\n",
      "41.000000     2722\n",
      "5.000000      2341\n",
      "              ... \n",
      "143.428571       1\n",
      "41.000001        1\n",
      "39.600002        1\n",
      "139.657143       1\n",
      "9.900000         1\n",
      "Name: gas_price, Length: 4449, dtype: int64\n"
     ]
    }
   ],
   "source": [
    "print(df_transactions[df_transactions.from_account.isin(fraud_list)].gas_price.value_counts())"
   ],
   "metadata": {
    "collapsed": false
   }
  },
  {
   "cell_type": "code",
   "execution_count": 32,
   "outputs": [
    {
     "data": {
      "text/plain": "      account  flag\n0      a17249     0\n1      a03683     1\n2      a22146     0\n3      a26056     1\n4      a13971     0\n...       ...   ...\n25193  a24443     0\n25194  a12337     0\n25195  a08122     0\n25196  a27826     1\n25197  a09863     1\n\n[25198 rows x 2 columns]",
      "text/html": "<div>\n<style scoped>\n    .dataframe tbody tr th:only-of-type {\n        vertical-align: middle;\n    }\n\n    .dataframe tbody tr th {\n        vertical-align: top;\n    }\n\n    .dataframe thead th {\n        text-align: right;\n    }\n</style>\n<table border=\"1\" class=\"dataframe\">\n  <thead>\n    <tr style=\"text-align: right;\">\n      <th></th>\n      <th>account</th>\n      <th>flag</th>\n    </tr>\n  </thead>\n  <tbody>\n    <tr>\n      <th>0</th>\n      <td>a17249</td>\n      <td>0</td>\n    </tr>\n    <tr>\n      <th>1</th>\n      <td>a03683</td>\n      <td>1</td>\n    </tr>\n    <tr>\n      <th>2</th>\n      <td>a22146</td>\n      <td>0</td>\n    </tr>\n    <tr>\n      <th>3</th>\n      <td>a26056</td>\n      <td>1</td>\n    </tr>\n    <tr>\n      <th>4</th>\n      <td>a13971</td>\n      <td>0</td>\n    </tr>\n    <tr>\n      <th>...</th>\n      <td>...</td>\n      <td>...</td>\n    </tr>\n    <tr>\n      <th>25193</th>\n      <td>a24443</td>\n      <td>0</td>\n    </tr>\n    <tr>\n      <th>25194</th>\n      <td>a12337</td>\n      <td>0</td>\n    </tr>\n    <tr>\n      <th>25195</th>\n      <td>a08122</td>\n      <td>0</td>\n    </tr>\n    <tr>\n      <th>25196</th>\n      <td>a27826</td>\n      <td>1</td>\n    </tr>\n    <tr>\n      <th>25197</th>\n      <td>a09863</td>\n      <td>1</td>\n    </tr>\n  </tbody>\n</table>\n<p>25198 rows × 2 columns</p>\n</div>"
     },
     "execution_count": 32,
     "metadata": {},
     "output_type": "execute_result"
    }
   ],
   "source": [
    "df_train"
   ],
   "metadata": {
    "collapsed": false
   }
  },
  {
   "cell_type": "code",
   "execution_count": 32,
   "outputs": [],
   "source": [],
   "metadata": {
    "collapsed": false
   }
  },
  {
   "cell_type": "code",
   "execution_count": 32,
   "outputs": [],
   "source": [],
   "metadata": {
    "collapsed": false
   }
  }
 ],
 "metadata": {
  "kernelspec": {
   "display_name": "Python 3",
   "language": "python",
   "name": "python3"
  },
  "language_info": {
   "codemirror_mode": {
    "name": "ipython",
    "version": 2
   },
   "file_extension": ".py",
   "mimetype": "text/x-python",
   "name": "python",
   "nbconvert_exporter": "python",
   "pygments_lexer": "ipython2",
   "version": "2.7.6"
  }
 },
 "nbformat": 4,
 "nbformat_minor": 0
}
